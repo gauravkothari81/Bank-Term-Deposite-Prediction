{
 "cells": [
  {
   "cell_type": "markdown",
   "metadata": {},
   "source": [
    "# PART I CLASSIFICATION"
   ]
  },
  {
   "cell_type": "markdown",
   "metadata": {},
   "source": [
    "## Classification - Bank term deposit Prediction"
   ]
  },
  {
   "cell_type": "markdown",
   "metadata": {},
   "source": [
    "This dataset has been synthesized from the dataset found at below link \n",
    "\n",
    "out of 11162 records poutcome column has 8326 unknown values so we choose to remove these records from the excel file to make the dataset length more easy to run for the time consuming algorithms\n",
    "\n",
    "\n",
    "Dataset Link: https://www.kaggle.com/janiobachmann/bank-marketing-dataset"
   ]
  },
  {
   "cell_type": "markdown",
   "metadata": {},
   "source": [
    "### Features Description:\n",
    "\n",
    "The dataset contains of 17 features\n",
    "\n",
    "- age       : The age of the customer\n",
    "- job       : Type of job\n",
    "- marital   : Marital status of the customer\n",
    "- education : Education of the customer\n",
    "- default   : Whether customer has credit in default\n",
    "- balance   : Current balance of the customer\n",
    "- housing   : Whether the customer has housing loan\n",
    "- loan      : Whether the customer has personal loan\n",
    "- contact   : contact communication type\n",
    "- day       : Last contact day of the month\n",
    "- month     : Last contact month of the year\n",
    "- duration  : Duration of last contact in seconds \n",
    "- campaign  : Number of contacts performed during this campaign and for this client\n",
    "- pdays     : Number of days that passed by after the client was last contacted from a previous campaign \n",
    "- previous  : Number of contacts performed before this campaign and for this client\n",
    "- poutcome  : Outcome of the previous marketing campaign\n",
    "- deposit   : Whether the client has subscribed a term deposit this is our target variable\n",
    "\n",
    "\n"
   ]
  },
  {
   "cell_type": "markdown",
   "metadata": {},
   "source": [
    "### Project Objective\n",
    "\n",
    "- The objective of the project is to classify if the product (bank term deposit) would be ('yes') or not ('no') subscribed"
   ]
  },
  {
   "cell_type": "markdown",
   "metadata": {},
   "source": [
    "### Importing libraries"
   ]
  },
  {
   "cell_type": "code",
   "execution_count": 1,
   "metadata": {},
   "outputs": [],
   "source": [
    "import numpy as np \n",
    "import pandas as pd\n",
    "import itertools\n",
    "%matplotlib inline\n",
    "import matplotlib.pyplot as plt\n",
    "from matplotlib.pylab import rcParams\n",
    "rcParams['figure.figsize'] = 10,8 \n",
    "import warnings\n",
    "warnings.filterwarnings(\"ignore\")\n",
    "pd.set_option('display.max_columns', 50)"
   ]
  },
  {
   "cell_type": "markdown",
   "metadata": {},
   "source": [
    "### Reading the data\n",
    "\n",
    "- We will import the trimmed file with 2836 rows as rows with poutcome = unknown have been removed from original file"
   ]
  },
  {
   "cell_type": "code",
   "execution_count": 2,
   "metadata": {},
   "outputs": [
    {
     "data": {
      "text/html": [
       "<div>\n",
       "<style scoped>\n",
       "    .dataframe tbody tr th:only-of-type {\n",
       "        vertical-align: middle;\n",
       "    }\n",
       "\n",
       "    .dataframe tbody tr th {\n",
       "        vertical-align: top;\n",
       "    }\n",
       "\n",
       "    .dataframe thead th {\n",
       "        text-align: right;\n",
       "    }\n",
       "</style>\n",
       "<table border=\"1\" class=\"dataframe\">\n",
       "  <thead>\n",
       "    <tr style=\"text-align: right;\">\n",
       "      <th></th>\n",
       "      <th>age</th>\n",
       "      <th>job</th>\n",
       "      <th>marital</th>\n",
       "      <th>education</th>\n",
       "      <th>default</th>\n",
       "      <th>balance</th>\n",
       "      <th>housing</th>\n",
       "      <th>loan</th>\n",
       "      <th>contact</th>\n",
       "      <th>day</th>\n",
       "      <th>month</th>\n",
       "      <th>duration</th>\n",
       "      <th>campaign</th>\n",
       "      <th>pdays</th>\n",
       "      <th>previous</th>\n",
       "      <th>poutcome</th>\n",
       "      <th>deposit</th>\n",
       "    </tr>\n",
       "  </thead>\n",
       "  <tbody>\n",
       "    <tr>\n",
       "      <th>0</th>\n",
       "      <td>42</td>\n",
       "      <td>admin.</td>\n",
       "      <td>single</td>\n",
       "      <td>secondary</td>\n",
       "      <td>no</td>\n",
       "      <td>-247.0</td>\n",
       "      <td>yes</td>\n",
       "      <td>yes</td>\n",
       "      <td>telephone</td>\n",
       "      <td>21</td>\n",
       "      <td>oct</td>\n",
       "      <td>519.0</td>\n",
       "      <td>1</td>\n",
       "      <td>166</td>\n",
       "      <td>1</td>\n",
       "      <td>other</td>\n",
       "      <td>yes</td>\n",
       "    </tr>\n",
       "    <tr>\n",
       "      <th>1</th>\n",
       "      <td>33</td>\n",
       "      <td>services</td>\n",
       "      <td>married</td>\n",
       "      <td>secondary</td>\n",
       "      <td>no</td>\n",
       "      <td>3444.0</td>\n",
       "      <td>yes</td>\n",
       "      <td>no</td>\n",
       "      <td>telephone</td>\n",
       "      <td>21</td>\n",
       "      <td>oct</td>\n",
       "      <td>144.0</td>\n",
       "      <td>1</td>\n",
       "      <td>91</td>\n",
       "      <td>4</td>\n",
       "      <td>failure</td>\n",
       "      <td>yes</td>\n",
       "    </tr>\n",
       "    <tr>\n",
       "      <th>2</th>\n",
       "      <td>56</td>\n",
       "      <td>technician</td>\n",
       "      <td>married</td>\n",
       "      <td>secondary</td>\n",
       "      <td>no</td>\n",
       "      <td>589.0</td>\n",
       "      <td>yes</td>\n",
       "      <td>no</td>\n",
       "      <td>unknown</td>\n",
       "      <td>23</td>\n",
       "      <td>oct</td>\n",
       "      <td>518.0</td>\n",
       "      <td>1</td>\n",
       "      <td>147</td>\n",
       "      <td>2</td>\n",
       "      <td>success</td>\n",
       "      <td>yes</td>\n",
       "    </tr>\n",
       "    <tr>\n",
       "      <th>3</th>\n",
       "      <td>34</td>\n",
       "      <td>admin.</td>\n",
       "      <td>married</td>\n",
       "      <td>tertiary</td>\n",
       "      <td>no</td>\n",
       "      <td>899.0</td>\n",
       "      <td>yes</td>\n",
       "      <td>no</td>\n",
       "      <td>unknown</td>\n",
       "      <td>12</td>\n",
       "      <td>nov</td>\n",
       "      <td>114.0</td>\n",
       "      <td>1</td>\n",
       "      <td>170</td>\n",
       "      <td>3</td>\n",
       "      <td>failure</td>\n",
       "      <td>yes</td>\n",
       "    </tr>\n",
       "    <tr>\n",
       "      <th>4</th>\n",
       "      <td>53</td>\n",
       "      <td>retired</td>\n",
       "      <td>married</td>\n",
       "      <td>tertiary</td>\n",
       "      <td>no</td>\n",
       "      <td>2269.0</td>\n",
       "      <td>no</td>\n",
       "      <td>no</td>\n",
       "      <td>cellular</td>\n",
       "      <td>17</td>\n",
       "      <td>nov</td>\n",
       "      <td>1091.0</td>\n",
       "      <td>2</td>\n",
       "      <td>150</td>\n",
       "      <td>1</td>\n",
       "      <td>success</td>\n",
       "      <td>yes</td>\n",
       "    </tr>\n",
       "  </tbody>\n",
       "</table>\n",
       "</div>"
      ],
      "text/plain": [
       "   age         job  marital  education default  balance housing loan  \\\n",
       "0   42      admin.   single  secondary      no   -247.0     yes  yes   \n",
       "1   33    services  married  secondary      no   3444.0     yes   no   \n",
       "2   56  technician  married  secondary      no    589.0     yes   no   \n",
       "3   34      admin.  married   tertiary      no    899.0     yes   no   \n",
       "4   53     retired  married   tertiary      no   2269.0      no   no   \n",
       "\n",
       "     contact  day month  duration  campaign  pdays  previous poutcome deposit  \n",
       "0  telephone   21   oct     519.0         1    166         1    other     yes  \n",
       "1  telephone   21   oct     144.0         1     91         4  failure     yes  \n",
       "2    unknown   23   oct     518.0         1    147         2  success     yes  \n",
       "3    unknown   12   nov     114.0         1    170         3  failure     yes  \n",
       "4   cellular   17   nov    1091.0         2    150         1  success     yes  "
      ]
     },
     "execution_count": 2,
     "metadata": {},
     "output_type": "execute_result"
    }
   ],
   "source": [
    "import numpy as np\n",
    "import pandas as pd\n",
    "\n",
    "url = 'C:\\\\Users\\\\gaura\\\\Downloads\\\\bank.csv'\n",
    "\n",
    "df_b = pd.read_csv(url)\n",
    "\n",
    "df_b.head()"
   ]
  },
  {
   "cell_type": "markdown",
   "metadata": {},
   "source": [
    "### EDA (Exploratory Data Analysis)"
   ]
  },
  {
   "cell_type": "markdown",
   "metadata": {},
   "source": [
    "- To get familiar with the data we will run some basic functions to understand the statistics of the data\n",
    "  \n",
    "  - Using shape to get the dimensions of the dataset like total number of rows and columns\n",
    "  - Finding the statistics like max, min, count, std deviation, quartiles using the describe() it will give us an idea if there     are any missing values, range of the data\n",
    "  - Info() will give us details about what are the datatypes of the columns, if a column has object datatype even if it has         numbers\n",
    "  - values.tolist() will give us unique values so we can use it on categorical values to find unique values. From this we can       see few of the columns have \"unknown\" values which can be replaced ex. columns job,education have unknown values\n",
    "  - Finding the percentage of missing values in each column by combining function like isna, sum, len"
   ]
  },
  {
   "cell_type": "code",
   "execution_count": 3,
   "metadata": {},
   "outputs": [
    {
     "data": {
      "text/plain": [
       "(2836, 17)"
      ]
     },
     "execution_count": 3,
     "metadata": {},
     "output_type": "execute_result"
    }
   ],
   "source": [
    "df_b.shape"
   ]
  },
  {
   "cell_type": "code",
   "execution_count": 4,
   "metadata": {},
   "outputs": [
    {
     "data": {
      "text/html": [
       "<div>\n",
       "<style scoped>\n",
       "    .dataframe tbody tr th:only-of-type {\n",
       "        vertical-align: middle;\n",
       "    }\n",
       "\n",
       "    .dataframe tbody tr th {\n",
       "        vertical-align: top;\n",
       "    }\n",
       "\n",
       "    .dataframe thead th {\n",
       "        text-align: right;\n",
       "    }\n",
       "</style>\n",
       "<table border=\"1\" class=\"dataframe\">\n",
       "  <thead>\n",
       "    <tr style=\"text-align: right;\">\n",
       "      <th></th>\n",
       "      <th>age</th>\n",
       "      <th>balance</th>\n",
       "      <th>day</th>\n",
       "      <th>duration</th>\n",
       "      <th>campaign</th>\n",
       "      <th>pdays</th>\n",
       "      <th>previous</th>\n",
       "    </tr>\n",
       "  </thead>\n",
       "  <tbody>\n",
       "    <tr>\n",
       "      <th>count</th>\n",
       "      <td>2836.000000</td>\n",
       "      <td>2828.000000</td>\n",
       "      <td>2836.000000</td>\n",
       "      <td>2823.000000</td>\n",
       "      <td>2836.000000</td>\n",
       "      <td>2836.000000</td>\n",
       "      <td>2836.000000</td>\n",
       "    </tr>\n",
       "    <tr>\n",
       "      <th>mean</th>\n",
       "      <td>41.783498</td>\n",
       "      <td>1786.599010</td>\n",
       "      <td>14.463329</td>\n",
       "      <td>344.228126</td>\n",
       "      <td>1.895628</td>\n",
       "      <td>204.861777</td>\n",
       "      <td>3.275740</td>\n",
       "    </tr>\n",
       "    <tr>\n",
       "      <th>std</th>\n",
       "      <td>12.981102</td>\n",
       "      <td>3698.152675</td>\n",
       "      <td>8.248974</td>\n",
       "      <td>278.854976</td>\n",
       "      <td>1.317780</td>\n",
       "      <td>122.223117</td>\n",
       "      <td>3.560134</td>\n",
       "    </tr>\n",
       "    <tr>\n",
       "      <th>min</th>\n",
       "      <td>18.000000</td>\n",
       "      <td>-1137.000000</td>\n",
       "      <td>1.000000</td>\n",
       "      <td>4.000000</td>\n",
       "      <td>1.000000</td>\n",
       "      <td>1.000000</td>\n",
       "      <td>1.000000</td>\n",
       "    </tr>\n",
       "    <tr>\n",
       "      <th>25%</th>\n",
       "      <td>32.000000</td>\n",
       "      <td>219.000000</td>\n",
       "      <td>8.000000</td>\n",
       "      <td>161.000000</td>\n",
       "      <td>1.000000</td>\n",
       "      <td>98.000000</td>\n",
       "      <td>1.000000</td>\n",
       "    </tr>\n",
       "    <tr>\n",
       "      <th>50%</th>\n",
       "      <td>38.000000</td>\n",
       "      <td>722.500000</td>\n",
       "      <td>14.000000</td>\n",
       "      <td>263.000000</td>\n",
       "      <td>1.000000</td>\n",
       "      <td>182.000000</td>\n",
       "      <td>2.000000</td>\n",
       "    </tr>\n",
       "    <tr>\n",
       "      <th>75%</th>\n",
       "      <td>50.000000</td>\n",
       "      <td>2064.500000</td>\n",
       "      <td>20.000000</td>\n",
       "      <td>436.500000</td>\n",
       "      <td>2.000000</td>\n",
       "      <td>286.000000</td>\n",
       "      <td>4.000000</td>\n",
       "    </tr>\n",
       "    <tr>\n",
       "      <th>max</th>\n",
       "      <td>93.000000</td>\n",
       "      <td>81204.000000</td>\n",
       "      <td>31.000000</td>\n",
       "      <td>2184.000000</td>\n",
       "      <td>12.000000</td>\n",
       "      <td>854.000000</td>\n",
       "      <td>58.000000</td>\n",
       "    </tr>\n",
       "  </tbody>\n",
       "</table>\n",
       "</div>"
      ],
      "text/plain": [
       "               age       balance          day     duration     campaign  \\\n",
       "count  2836.000000   2828.000000  2836.000000  2823.000000  2836.000000   \n",
       "mean     41.783498   1786.599010    14.463329   344.228126     1.895628   \n",
       "std      12.981102   3698.152675     8.248974   278.854976     1.317780   \n",
       "min      18.000000  -1137.000000     1.000000     4.000000     1.000000   \n",
       "25%      32.000000    219.000000     8.000000   161.000000     1.000000   \n",
       "50%      38.000000    722.500000    14.000000   263.000000     1.000000   \n",
       "75%      50.000000   2064.500000    20.000000   436.500000     2.000000   \n",
       "max      93.000000  81204.000000    31.000000  2184.000000    12.000000   \n",
       "\n",
       "             pdays     previous  \n",
       "count  2836.000000  2836.000000  \n",
       "mean    204.861777     3.275740  \n",
       "std     122.223117     3.560134  \n",
       "min       1.000000     1.000000  \n",
       "25%      98.000000     1.000000  \n",
       "50%     182.000000     2.000000  \n",
       "75%     286.000000     4.000000  \n",
       "max     854.000000    58.000000  "
      ]
     },
     "execution_count": 4,
     "metadata": {},
     "output_type": "execute_result"
    }
   ],
   "source": [
    "df_b.describe()"
   ]
  },
  {
   "cell_type": "code",
   "execution_count": 5,
   "metadata": {},
   "outputs": [
    {
     "name": "stdout",
     "output_type": "stream",
     "text": [
      "<class 'pandas.core.frame.DataFrame'>\n",
      "RangeIndex: 2836 entries, 0 to 2835\n",
      "Data columns (total 17 columns):\n",
      " #   Column     Non-Null Count  Dtype  \n",
      "---  ------     --------------  -----  \n",
      " 0   age        2836 non-null   int64  \n",
      " 1   job        2836 non-null   object \n",
      " 2   marital    2836 non-null   object \n",
      " 3   education  2836 non-null   object \n",
      " 4   default    2836 non-null   object \n",
      " 5   balance    2828 non-null   float64\n",
      " 6   housing    2836 non-null   object \n",
      " 7   loan       2836 non-null   object \n",
      " 8   contact    2836 non-null   object \n",
      " 9   day        2836 non-null   int64  \n",
      " 10  month      2836 non-null   object \n",
      " 11  duration   2823 non-null   float64\n",
      " 12  campaign   2836 non-null   int64  \n",
      " 13  pdays      2836 non-null   int64  \n",
      " 14  previous   2836 non-null   int64  \n",
      " 15  poutcome   2836 non-null   object \n",
      " 16  deposit    2836 non-null   object \n",
      "dtypes: float64(2), int64(5), object(10)\n",
      "memory usage: 376.8+ KB\n"
     ]
    }
   ],
   "source": [
    "df_b.info()"
   ]
  },
  {
   "cell_type": "markdown",
   "metadata": {},
   "source": [
    "#### From info function it looks like there are no missing values let's look into the values of each column"
   ]
  },
  {
   "cell_type": "code",
   "execution_count": 6,
   "metadata": {},
   "outputs": [
    {
     "name": "stdout",
     "output_type": "stream",
     "text": [
      "The no of unique values in job is:['admin.' 'services' 'technician' 'retired' 'entrepreneur' 'management'\n",
      " 'unemployed' 'blue-collar' 'unknown' 'self-employed' 'housemaid'\n",
      " 'student']\n",
      "The no of unique values in marital is:['single' 'married' 'divorced']\n",
      "The no of unique values in education is:['secondary' 'tertiary' 'primary' 'unknown']\n",
      "The no of unique values in default is:['no' 'yes']\n",
      "The no of unique values in housing is:['yes' 'no']\n",
      "The no of unique values in loan is:['yes' 'no']\n",
      "The no of unique values in contact is:['telephone' 'unknown' 'cellular']\n",
      "The no of unique values in month is:['oct' 'nov' 'jan' 'feb' 'mar' 'apr' 'may' 'jun' 'jul' 'aug' 'sep' 'dec']\n",
      "The no of unique values in poutcome is:['other' 'failure' 'success']\n",
      "The no of unique values in deposit is:['yes' 'no']\n"
     ]
    }
   ],
   "source": [
    "col = df_b.columns.values.tolist()\n",
    "for col in df_b:\n",
    "    if col not in['age','balance','day','duration','campaign','pdays','previous']:\n",
    "        print('The no of unique values in {} is:{}'.format(col,df_b[col].unique()))\n",
    "        \n",
    "     "
   ]
  },
  {
   "cell_type": "code",
   "execution_count": 7,
   "metadata": {},
   "outputs": [
    {
     "data": {
      "text/plain": [
       "cellular     2607\n",
       "telephone     210\n",
       "unknown        19\n",
       "Name: contact, dtype: int64"
      ]
     },
     "execution_count": 7,
     "metadata": {},
     "output_type": "execute_result"
    }
   ],
   "source": [
    "df_b['contact'].value_counts()"
   ]
  },
  {
   "cell_type": "markdown",
   "metadata": {},
   "source": [
    "#### If we impute the unknown values in contact column 92% of the values will be cellular hence we will drop the column as it will not affect the analysis in a greater sense"
   ]
  },
  {
   "cell_type": "code",
   "execution_count": 8,
   "metadata": {},
   "outputs": [],
   "source": [
    "df_b.drop(['contact'], axis=1, inplace=True)"
   ]
  },
  {
   "cell_type": "markdown",
   "metadata": {},
   "source": [
    "#### we can see that some of the columns like job and education have unknown values we will replace them with NaN values to get an idea of missing values"
   ]
  },
  {
   "cell_type": "code",
   "execution_count": 9,
   "metadata": {},
   "outputs": [],
   "source": [
    "df_b = df_b.replace('unknown',np.nan)"
   ]
  },
  {
   "cell_type": "markdown",
   "metadata": {},
   "source": [
    "#### Percentage of Missing values on each column"
   ]
  },
  {
   "cell_type": "code",
   "execution_count": 10,
   "metadata": {},
   "outputs": [
    {
     "data": {
      "text/plain": [
       "age            0\n",
       "job           19\n",
       "marital        0\n",
       "education    131\n",
       "default        0\n",
       "balance        8\n",
       "housing        0\n",
       "loan           0\n",
       "day            0\n",
       "month          0\n",
       "duration      13\n",
       "campaign       0\n",
       "pdays          0\n",
       "previous       0\n",
       "poutcome       0\n",
       "deposit        0\n",
       "dtype: int64"
      ]
     },
     "execution_count": 10,
     "metadata": {},
     "output_type": "execute_result"
    }
   ],
   "source": [
    "Missing_Values=(df_b.isna().sum(axis=0))\n",
    "Missing_Values"
   ]
  },
  {
   "cell_type": "code",
   "execution_count": 11,
   "metadata": {},
   "outputs": [
    {
     "data": {
      "text/plain": [
       "age          0.000000\n",
       "job          0.669958\n",
       "marital      0.000000\n",
       "education    4.619182\n",
       "default      0.000000\n",
       "balance      0.282087\n",
       "housing      0.000000\n",
       "loan         0.000000\n",
       "day          0.000000\n",
       "month        0.000000\n",
       "duration     0.458392\n",
       "campaign     0.000000\n",
       "pdays        0.000000\n",
       "previous     0.000000\n",
       "poutcome     0.000000\n",
       "deposit      0.000000\n",
       "dtype: float64"
      ]
     },
     "execution_count": 11,
     "metadata": {},
     "output_type": "execute_result"
    }
   ],
   "source": [
    "Missing_values_percent=(df_b.isna().sum(axis=0)/len(df_b))*100\n",
    "Missing_values_percent"
   ]
  },
  {
   "cell_type": "markdown",
   "metadata": {},
   "source": [
    "### Now that we have statistics on the data we can handle the missing values in the dataset.\n",
    "\n",
    "- We can impute the missing values by replacing mode for categorical values and using mean values for numeric value"
   ]
  },
  {
   "cell_type": "markdown",
   "metadata": {},
   "source": [
    "## Data Transformation"
   ]
  },
  {
   "cell_type": "markdown",
   "metadata": {},
   "source": [
    "- Categorical columns job, education have missing values so for these columns we will use the mode of the columns to replace the missing values\n",
    "\n",
    "\n",
    "- For Columns balance, duration we will use the mean of the columns to replace the missing values. The mean used will be the mean of the groups in the job column, as a job can affect the balance and also the duration to turn the term deposit to yes\n",
    "\n",
    "\n",
    "- For columns like default, housing, loan, deposit they have binary values hence we will use mapping technique to turn these columns to into numerical format\n",
    "\n",
    "\n",
    "- For columns job, marital, poutcome, month we will use one hot encoding to turn them into numerical format\n",
    "\n",
    "\n",
    "- Column education is ordinal hence we will replace it with scaler values like assigning orders to the values ex. 'tertiary':3, 'secondary':2, 'primary':1"
   ]
  },
  {
   "cell_type": "code",
   "execution_count": 12,
   "metadata": {},
   "outputs": [],
   "source": [
    "df_b['job'].fillna(df_b['job'].mode()[0], inplace=True)\n",
    "df_b['education'].fillna(df_b['education'].mode()[0], inplace=True)"
   ]
  },
  {
   "cell_type": "markdown",
   "metadata": {},
   "source": [
    "- As a job category can affect the balance so we will impute missing values in balance by taking means over the job category"
   ]
  },
  {
   "cell_type": "code",
   "execution_count": 13,
   "metadata": {},
   "outputs": [
    {
     "data": {
      "text/html": [
       "<div>\n",
       "<style scoped>\n",
       "    .dataframe tbody tr th:only-of-type {\n",
       "        vertical-align: middle;\n",
       "    }\n",
       "\n",
       "    .dataframe tbody tr th {\n",
       "        vertical-align: top;\n",
       "    }\n",
       "\n",
       "    .dataframe thead th {\n",
       "        text-align: right;\n",
       "    }\n",
       "</style>\n",
       "<table border=\"1\" class=\"dataframe\">\n",
       "  <thead>\n",
       "    <tr style=\"text-align: right;\">\n",
       "      <th></th>\n",
       "      <th>balance</th>\n",
       "    </tr>\n",
       "    <tr>\n",
       "      <th>job</th>\n",
       "      <th></th>\n",
       "    </tr>\n",
       "  </thead>\n",
       "  <tbody>\n",
       "    <tr>\n",
       "      <th>admin.</th>\n",
       "      <td>1281.762887</td>\n",
       "    </tr>\n",
       "    <tr>\n",
       "      <th>blue-collar</th>\n",
       "      <td>1165.844687</td>\n",
       "    </tr>\n",
       "    <tr>\n",
       "      <th>entrepreneur</th>\n",
       "      <td>1278.943396</td>\n",
       "    </tr>\n",
       "    <tr>\n",
       "      <th>housemaid</th>\n",
       "      <td>989.307692</td>\n",
       "    </tr>\n",
       "    <tr>\n",
       "      <th>management</th>\n",
       "      <td>2058.747312</td>\n",
       "    </tr>\n",
       "    <tr>\n",
       "      <th>retired</th>\n",
       "      <td>3009.577869</td>\n",
       "    </tr>\n",
       "    <tr>\n",
       "      <th>self-employed</th>\n",
       "      <td>2695.072165</td>\n",
       "    </tr>\n",
       "    <tr>\n",
       "      <th>services</th>\n",
       "      <td>1378.602041</td>\n",
       "    </tr>\n",
       "    <tr>\n",
       "      <th>student</th>\n",
       "      <td>1718.867133</td>\n",
       "    </tr>\n",
       "    <tr>\n",
       "      <th>technician</th>\n",
       "      <td>1827.757848</td>\n",
       "    </tr>\n",
       "    <tr>\n",
       "      <th>unemployed</th>\n",
       "      <td>1524.836735</td>\n",
       "    </tr>\n",
       "  </tbody>\n",
       "</table>\n",
       "</div>"
      ],
      "text/plain": [
       "                   balance\n",
       "job                       \n",
       "admin.         1281.762887\n",
       "blue-collar    1165.844687\n",
       "entrepreneur   1278.943396\n",
       "housemaid       989.307692\n",
       "management     2058.747312\n",
       "retired        3009.577869\n",
       "self-employed  2695.072165\n",
       "services       1378.602041\n",
       "student        1718.867133\n",
       "technician     1827.757848\n",
       "unemployed     1524.836735"
      ]
     },
     "execution_count": 13,
     "metadata": {},
     "output_type": "execute_result"
    }
   ],
   "source": [
    "df_b[[\"balance\",\"job\"]].groupby(\"job\").mean()"
   ]
  },
  {
   "cell_type": "code",
   "execution_count": 14,
   "metadata": {},
   "outputs": [],
   "source": [
    "df_b[\"balance\"] = df_b.groupby(\"job\")[\"balance\"].transform(lambda x: x.fillna(x.mean()))"
   ]
  },
  {
   "cell_type": "markdown",
   "metadata": {},
   "source": [
    "- Similarly for duration we will take the means over the different job categories"
   ]
  },
  {
   "cell_type": "code",
   "execution_count": 15,
   "metadata": {},
   "outputs": [
    {
     "data": {
      "text/html": [
       "<div>\n",
       "<style scoped>\n",
       "    .dataframe tbody tr th:only-of-type {\n",
       "        vertical-align: middle;\n",
       "    }\n",
       "\n",
       "    .dataframe tbody tr th {\n",
       "        vertical-align: top;\n",
       "    }\n",
       "\n",
       "    .dataframe thead th {\n",
       "        text-align: right;\n",
       "    }\n",
       "</style>\n",
       "<table border=\"1\" class=\"dataframe\">\n",
       "  <thead>\n",
       "    <tr style=\"text-align: right;\">\n",
       "      <th></th>\n",
       "      <th>duration</th>\n",
       "    </tr>\n",
       "    <tr>\n",
       "      <th>job</th>\n",
       "      <th></th>\n",
       "    </tr>\n",
       "  </thead>\n",
       "  <tbody>\n",
       "    <tr>\n",
       "      <th>admin.</th>\n",
       "      <td>322.628571</td>\n",
       "    </tr>\n",
       "    <tr>\n",
       "      <th>blue-collar</th>\n",
       "      <td>339.136612</td>\n",
       "    </tr>\n",
       "    <tr>\n",
       "      <th>entrepreneur</th>\n",
       "      <td>397.792453</td>\n",
       "    </tr>\n",
       "    <tr>\n",
       "      <th>housemaid</th>\n",
       "      <td>284.673077</td>\n",
       "    </tr>\n",
       "    <tr>\n",
       "      <th>management</th>\n",
       "      <td>346.220727</td>\n",
       "    </tr>\n",
       "    <tr>\n",
       "      <th>retired</th>\n",
       "      <td>406.926230</td>\n",
       "    </tr>\n",
       "    <tr>\n",
       "      <th>self-employed</th>\n",
       "      <td>344.857143</td>\n",
       "    </tr>\n",
       "    <tr>\n",
       "      <th>services</th>\n",
       "      <td>346.578680</td>\n",
       "    </tr>\n",
       "    <tr>\n",
       "      <th>student</th>\n",
       "      <td>322.601399</td>\n",
       "    </tr>\n",
       "    <tr>\n",
       "      <th>technician</th>\n",
       "      <td>321.981982</td>\n",
       "    </tr>\n",
       "    <tr>\n",
       "      <th>unemployed</th>\n",
       "      <td>406.510204</td>\n",
       "    </tr>\n",
       "  </tbody>\n",
       "</table>\n",
       "</div>"
      ],
      "text/plain": [
       "                 duration\n",
       "job                      \n",
       "admin.         322.628571\n",
       "blue-collar    339.136612\n",
       "entrepreneur   397.792453\n",
       "housemaid      284.673077\n",
       "management     346.220727\n",
       "retired        406.926230\n",
       "self-employed  344.857143\n",
       "services       346.578680\n",
       "student        322.601399\n",
       "technician     321.981982\n",
       "unemployed     406.510204"
      ]
     },
     "execution_count": 15,
     "metadata": {},
     "output_type": "execute_result"
    }
   ],
   "source": [
    "df_b[[\"duration\",\"job\"]].groupby(\"job\").mean()"
   ]
  },
  {
   "cell_type": "markdown",
   "metadata": {},
   "source": [
    "- Replacing the missing values for duration and balance column(above) by using the mean method"
   ]
  },
  {
   "cell_type": "code",
   "execution_count": 16,
   "metadata": {},
   "outputs": [],
   "source": [
    "df_b[\"duration\"] = df_b.groupby(\"job\")[\"duration\"].transform(lambda x: x.fillna(x.mean()))"
   ]
  },
  {
   "cell_type": "markdown",
   "metadata": {},
   "source": [
    "- For columns with binary values like default, housing,loan we will replace them by mapping"
   ]
  },
  {
   "cell_type": "code",
   "execution_count": 17,
   "metadata": {},
   "outputs": [],
   "source": [
    "df_b['default'] = df_b['default'].map( {'no': 1, 'yes': 0} ).astype(int)\n",
    "df_b['housing'] = df_b['housing'].map({'no':1,'yes':0}).astype(int)\n",
    "df_b['loan'] = df_b['loan'].map({'no':1,'yes':0}).astype(int)\n",
    "df_b['deposit'] = df_b['deposit'].map( {'yes': 1, 'no': 0} ).astype(int)"
   ]
  },
  {
   "cell_type": "markdown",
   "metadata": {},
   "source": [
    "- Replacing the categorical values with one hot encoding"
   ]
  },
  {
   "cell_type": "code",
   "execution_count": 18,
   "metadata": {},
   "outputs": [],
   "source": [
    "job_dummy = pd.get_dummies(df_b['job'],columns='job',prefix='job')\n",
    "df_b=pd.concat([df_b, job_dummy], axis=1)\n",
    "df_b.drop(['job'],axis=1,inplace= True)"
   ]
  },
  {
   "cell_type": "code",
   "execution_count": 19,
   "metadata": {},
   "outputs": [],
   "source": [
    "marital_dummy = pd.get_dummies(df_b['marital'],columns='marital',prefix='marital')\n",
    "df_b=pd.concat([df_b,marital_dummy], axis=1)\n",
    "df_b.drop(['marital'],axis=1,inplace= True)"
   ]
  },
  {
   "cell_type": "code",
   "execution_count": 20,
   "metadata": {},
   "outputs": [],
   "source": [
    "poutcome_dummy = pd.get_dummies(df_b['poutcome'],columns='poutcome',prefix='poutcome')\n",
    "df_b=pd.concat([df_b, poutcome_dummy], axis=1)\n",
    "df_b.drop(['poutcome'],axis=1,inplace= True)\n"
   ]
  },
  {
   "cell_type": "code",
   "execution_count": 21,
   "metadata": {},
   "outputs": [],
   "source": [
    "month_dummy = pd.get_dummies(df_b['month'],columns='month',prefix='month')\n",
    "df_b=pd.concat([df_b, month_dummy], axis=1)\n",
    "df_b.drop(['month'],axis=1,inplace= True)\n"
   ]
  },
  {
   "cell_type": "markdown",
   "metadata": {},
   "source": [
    "- As education is a ordinal value we will replace it with scaler values"
   ]
  },
  {
   "cell_type": "code",
   "execution_count": 22,
   "metadata": {},
   "outputs": [],
   "source": [
    "scale_mapper = {'tertiary':3,'secondary':2,'primary':1}\n",
    "df_b['education'].replace(scale_mapper,inplace= True)\n"
   ]
  },
  {
   "cell_type": "markdown",
   "metadata": {},
   "source": [
    "### Final dataset after data preparation\n",
    "- We can see that all the columns now have Dtype that is not object"
   ]
  },
  {
   "cell_type": "code",
   "execution_count": 23,
   "metadata": {},
   "outputs": [
    {
     "name": "stdout",
     "output_type": "stream",
     "text": [
      "<class 'pandas.core.frame.DataFrame'>\n",
      "RangeIndex: 2836 entries, 0 to 2835\n",
      "Data columns (total 41 columns):\n",
      " #   Column             Non-Null Count  Dtype  \n",
      "---  ------             --------------  -----  \n",
      " 0   age                2836 non-null   int64  \n",
      " 1   education          2836 non-null   int64  \n",
      " 2   default            2836 non-null   int32  \n",
      " 3   balance            2836 non-null   float64\n",
      " 4   housing            2836 non-null   int32  \n",
      " 5   loan               2836 non-null   int32  \n",
      " 6   day                2836 non-null   int64  \n",
      " 7   duration           2836 non-null   float64\n",
      " 8   campaign           2836 non-null   int64  \n",
      " 9   pdays              2836 non-null   int64  \n",
      " 10  previous           2836 non-null   int64  \n",
      " 11  deposit            2836 non-null   int32  \n",
      " 12  job_admin.         2836 non-null   uint8  \n",
      " 13  job_blue-collar    2836 non-null   uint8  \n",
      " 14  job_entrepreneur   2836 non-null   uint8  \n",
      " 15  job_housemaid      2836 non-null   uint8  \n",
      " 16  job_management     2836 non-null   uint8  \n",
      " 17  job_retired        2836 non-null   uint8  \n",
      " 18  job_self-employed  2836 non-null   uint8  \n",
      " 19  job_services       2836 non-null   uint8  \n",
      " 20  job_student        2836 non-null   uint8  \n",
      " 21  job_technician     2836 non-null   uint8  \n",
      " 22  job_unemployed     2836 non-null   uint8  \n",
      " 23  marital_divorced   2836 non-null   uint8  \n",
      " 24  marital_married    2836 non-null   uint8  \n",
      " 25  marital_single     2836 non-null   uint8  \n",
      " 26  poutcome_failure   2836 non-null   uint8  \n",
      " 27  poutcome_other     2836 non-null   uint8  \n",
      " 28  poutcome_success   2836 non-null   uint8  \n",
      " 29  month_apr          2836 non-null   uint8  \n",
      " 30  month_aug          2836 non-null   uint8  \n",
      " 31  month_dec          2836 non-null   uint8  \n",
      " 32  month_feb          2836 non-null   uint8  \n",
      " 33  month_jan          2836 non-null   uint8  \n",
      " 34  month_jul          2836 non-null   uint8  \n",
      " 35  month_jun          2836 non-null   uint8  \n",
      " 36  month_mar          2836 non-null   uint8  \n",
      " 37  month_may          2836 non-null   uint8  \n",
      " 38  month_nov          2836 non-null   uint8  \n",
      " 39  month_oct          2836 non-null   uint8  \n",
      " 40  month_sep          2836 non-null   uint8  \n",
      "dtypes: float64(2), int32(4), int64(6), uint8(29)\n",
      "memory usage: 302.0 KB\n"
     ]
    }
   ],
   "source": [
    "df_b.info()"
   ]
  },
  {
   "cell_type": "code",
   "execution_count": 24,
   "metadata": {},
   "outputs": [
    {
     "data": {
      "text/html": [
       "<div>\n",
       "<style scoped>\n",
       "    .dataframe tbody tr th:only-of-type {\n",
       "        vertical-align: middle;\n",
       "    }\n",
       "\n",
       "    .dataframe tbody tr th {\n",
       "        vertical-align: top;\n",
       "    }\n",
       "\n",
       "    .dataframe thead th {\n",
       "        text-align: right;\n",
       "    }\n",
       "</style>\n",
       "<table border=\"1\" class=\"dataframe\">\n",
       "  <thead>\n",
       "    <tr style=\"text-align: right;\">\n",
       "      <th></th>\n",
       "      <th>age</th>\n",
       "      <th>education</th>\n",
       "      <th>default</th>\n",
       "      <th>balance</th>\n",
       "      <th>housing</th>\n",
       "      <th>loan</th>\n",
       "      <th>day</th>\n",
       "      <th>duration</th>\n",
       "      <th>campaign</th>\n",
       "      <th>pdays</th>\n",
       "      <th>previous</th>\n",
       "      <th>deposit</th>\n",
       "      <th>job_admin.</th>\n",
       "      <th>job_blue-collar</th>\n",
       "      <th>job_entrepreneur</th>\n",
       "      <th>job_housemaid</th>\n",
       "      <th>job_management</th>\n",
       "      <th>job_retired</th>\n",
       "      <th>job_self-employed</th>\n",
       "      <th>job_services</th>\n",
       "      <th>job_student</th>\n",
       "      <th>job_technician</th>\n",
       "      <th>job_unemployed</th>\n",
       "      <th>marital_divorced</th>\n",
       "      <th>marital_married</th>\n",
       "      <th>marital_single</th>\n",
       "      <th>poutcome_failure</th>\n",
       "      <th>poutcome_other</th>\n",
       "      <th>poutcome_success</th>\n",
       "      <th>month_apr</th>\n",
       "      <th>month_aug</th>\n",
       "      <th>month_dec</th>\n",
       "      <th>month_feb</th>\n",
       "      <th>month_jan</th>\n",
       "      <th>month_jul</th>\n",
       "      <th>month_jun</th>\n",
       "      <th>month_mar</th>\n",
       "      <th>month_may</th>\n",
       "      <th>month_nov</th>\n",
       "      <th>month_oct</th>\n",
       "      <th>month_sep</th>\n",
       "    </tr>\n",
       "  </thead>\n",
       "  <tbody>\n",
       "    <tr>\n",
       "      <th>0</th>\n",
       "      <td>42</td>\n",
       "      <td>2</td>\n",
       "      <td>1</td>\n",
       "      <td>-247.0</td>\n",
       "      <td>0</td>\n",
       "      <td>0</td>\n",
       "      <td>21</td>\n",
       "      <td>519.0</td>\n",
       "      <td>1</td>\n",
       "      <td>166</td>\n",
       "      <td>1</td>\n",
       "      <td>1</td>\n",
       "      <td>1</td>\n",
       "      <td>0</td>\n",
       "      <td>0</td>\n",
       "      <td>0</td>\n",
       "      <td>0</td>\n",
       "      <td>0</td>\n",
       "      <td>0</td>\n",
       "      <td>0</td>\n",
       "      <td>0</td>\n",
       "      <td>0</td>\n",
       "      <td>0</td>\n",
       "      <td>0</td>\n",
       "      <td>0</td>\n",
       "      <td>1</td>\n",
       "      <td>0</td>\n",
       "      <td>1</td>\n",
       "      <td>0</td>\n",
       "      <td>0</td>\n",
       "      <td>0</td>\n",
       "      <td>0</td>\n",
       "      <td>0</td>\n",
       "      <td>0</td>\n",
       "      <td>0</td>\n",
       "      <td>0</td>\n",
       "      <td>0</td>\n",
       "      <td>0</td>\n",
       "      <td>0</td>\n",
       "      <td>1</td>\n",
       "      <td>0</td>\n",
       "    </tr>\n",
       "    <tr>\n",
       "      <th>1</th>\n",
       "      <td>33</td>\n",
       "      <td>2</td>\n",
       "      <td>1</td>\n",
       "      <td>3444.0</td>\n",
       "      <td>0</td>\n",
       "      <td>1</td>\n",
       "      <td>21</td>\n",
       "      <td>144.0</td>\n",
       "      <td>1</td>\n",
       "      <td>91</td>\n",
       "      <td>4</td>\n",
       "      <td>1</td>\n",
       "      <td>0</td>\n",
       "      <td>0</td>\n",
       "      <td>0</td>\n",
       "      <td>0</td>\n",
       "      <td>0</td>\n",
       "      <td>0</td>\n",
       "      <td>0</td>\n",
       "      <td>1</td>\n",
       "      <td>0</td>\n",
       "      <td>0</td>\n",
       "      <td>0</td>\n",
       "      <td>0</td>\n",
       "      <td>1</td>\n",
       "      <td>0</td>\n",
       "      <td>1</td>\n",
       "      <td>0</td>\n",
       "      <td>0</td>\n",
       "      <td>0</td>\n",
       "      <td>0</td>\n",
       "      <td>0</td>\n",
       "      <td>0</td>\n",
       "      <td>0</td>\n",
       "      <td>0</td>\n",
       "      <td>0</td>\n",
       "      <td>0</td>\n",
       "      <td>0</td>\n",
       "      <td>0</td>\n",
       "      <td>1</td>\n",
       "      <td>0</td>\n",
       "    </tr>\n",
       "    <tr>\n",
       "      <th>2</th>\n",
       "      <td>56</td>\n",
       "      <td>2</td>\n",
       "      <td>1</td>\n",
       "      <td>589.0</td>\n",
       "      <td>0</td>\n",
       "      <td>1</td>\n",
       "      <td>23</td>\n",
       "      <td>518.0</td>\n",
       "      <td>1</td>\n",
       "      <td>147</td>\n",
       "      <td>2</td>\n",
       "      <td>1</td>\n",
       "      <td>0</td>\n",
       "      <td>0</td>\n",
       "      <td>0</td>\n",
       "      <td>0</td>\n",
       "      <td>0</td>\n",
       "      <td>0</td>\n",
       "      <td>0</td>\n",
       "      <td>0</td>\n",
       "      <td>0</td>\n",
       "      <td>1</td>\n",
       "      <td>0</td>\n",
       "      <td>0</td>\n",
       "      <td>1</td>\n",
       "      <td>0</td>\n",
       "      <td>0</td>\n",
       "      <td>0</td>\n",
       "      <td>1</td>\n",
       "      <td>0</td>\n",
       "      <td>0</td>\n",
       "      <td>0</td>\n",
       "      <td>0</td>\n",
       "      <td>0</td>\n",
       "      <td>0</td>\n",
       "      <td>0</td>\n",
       "      <td>0</td>\n",
       "      <td>0</td>\n",
       "      <td>0</td>\n",
       "      <td>1</td>\n",
       "      <td>0</td>\n",
       "    </tr>\n",
       "    <tr>\n",
       "      <th>3</th>\n",
       "      <td>34</td>\n",
       "      <td>3</td>\n",
       "      <td>1</td>\n",
       "      <td>899.0</td>\n",
       "      <td>0</td>\n",
       "      <td>1</td>\n",
       "      <td>12</td>\n",
       "      <td>114.0</td>\n",
       "      <td>1</td>\n",
       "      <td>170</td>\n",
       "      <td>3</td>\n",
       "      <td>1</td>\n",
       "      <td>1</td>\n",
       "      <td>0</td>\n",
       "      <td>0</td>\n",
       "      <td>0</td>\n",
       "      <td>0</td>\n",
       "      <td>0</td>\n",
       "      <td>0</td>\n",
       "      <td>0</td>\n",
       "      <td>0</td>\n",
       "      <td>0</td>\n",
       "      <td>0</td>\n",
       "      <td>0</td>\n",
       "      <td>1</td>\n",
       "      <td>0</td>\n",
       "      <td>1</td>\n",
       "      <td>0</td>\n",
       "      <td>0</td>\n",
       "      <td>0</td>\n",
       "      <td>0</td>\n",
       "      <td>0</td>\n",
       "      <td>0</td>\n",
       "      <td>0</td>\n",
       "      <td>0</td>\n",
       "      <td>0</td>\n",
       "      <td>0</td>\n",
       "      <td>0</td>\n",
       "      <td>1</td>\n",
       "      <td>0</td>\n",
       "      <td>0</td>\n",
       "    </tr>\n",
       "    <tr>\n",
       "      <th>4</th>\n",
       "      <td>53</td>\n",
       "      <td>3</td>\n",
       "      <td>1</td>\n",
       "      <td>2269.0</td>\n",
       "      <td>1</td>\n",
       "      <td>1</td>\n",
       "      <td>17</td>\n",
       "      <td>1091.0</td>\n",
       "      <td>2</td>\n",
       "      <td>150</td>\n",
       "      <td>1</td>\n",
       "      <td>1</td>\n",
       "      <td>0</td>\n",
       "      <td>0</td>\n",
       "      <td>0</td>\n",
       "      <td>0</td>\n",
       "      <td>0</td>\n",
       "      <td>1</td>\n",
       "      <td>0</td>\n",
       "      <td>0</td>\n",
       "      <td>0</td>\n",
       "      <td>0</td>\n",
       "      <td>0</td>\n",
       "      <td>0</td>\n",
       "      <td>1</td>\n",
       "      <td>0</td>\n",
       "      <td>0</td>\n",
       "      <td>0</td>\n",
       "      <td>1</td>\n",
       "      <td>0</td>\n",
       "      <td>0</td>\n",
       "      <td>0</td>\n",
       "      <td>0</td>\n",
       "      <td>0</td>\n",
       "      <td>0</td>\n",
       "      <td>0</td>\n",
       "      <td>0</td>\n",
       "      <td>0</td>\n",
       "      <td>1</td>\n",
       "      <td>0</td>\n",
       "      <td>0</td>\n",
       "    </tr>\n",
       "  </tbody>\n",
       "</table>\n",
       "</div>"
      ],
      "text/plain": [
       "   age  education  default  balance  housing  loan  day  duration  campaign  \\\n",
       "0   42          2        1   -247.0        0     0   21     519.0         1   \n",
       "1   33          2        1   3444.0        0     1   21     144.0         1   \n",
       "2   56          2        1    589.0        0     1   23     518.0         1   \n",
       "3   34          3        1    899.0        0     1   12     114.0         1   \n",
       "4   53          3        1   2269.0        1     1   17    1091.0         2   \n",
       "\n",
       "   pdays  previous  deposit  job_admin.  job_blue-collar  job_entrepreneur  \\\n",
       "0    166         1        1           1                0                 0   \n",
       "1     91         4        1           0                0                 0   \n",
       "2    147         2        1           0                0                 0   \n",
       "3    170         3        1           1                0                 0   \n",
       "4    150         1        1           0                0                 0   \n",
       "\n",
       "   job_housemaid  job_management  job_retired  job_self-employed  \\\n",
       "0              0               0            0                  0   \n",
       "1              0               0            0                  0   \n",
       "2              0               0            0                  0   \n",
       "3              0               0            0                  0   \n",
       "4              0               0            1                  0   \n",
       "\n",
       "   job_services  job_student  job_technician  job_unemployed  \\\n",
       "0             0            0               0               0   \n",
       "1             1            0               0               0   \n",
       "2             0            0               1               0   \n",
       "3             0            0               0               0   \n",
       "4             0            0               0               0   \n",
       "\n",
       "   marital_divorced  marital_married  marital_single  poutcome_failure  \\\n",
       "0                 0                0               1                 0   \n",
       "1                 0                1               0                 1   \n",
       "2                 0                1               0                 0   \n",
       "3                 0                1               0                 1   \n",
       "4                 0                1               0                 0   \n",
       "\n",
       "   poutcome_other  poutcome_success  month_apr  month_aug  month_dec  \\\n",
       "0               1                 0          0          0          0   \n",
       "1               0                 0          0          0          0   \n",
       "2               0                 1          0          0          0   \n",
       "3               0                 0          0          0          0   \n",
       "4               0                 1          0          0          0   \n",
       "\n",
       "   month_feb  month_jan  month_jul  month_jun  month_mar  month_may  \\\n",
       "0          0          0          0          0          0          0   \n",
       "1          0          0          0          0          0          0   \n",
       "2          0          0          0          0          0          0   \n",
       "3          0          0          0          0          0          0   \n",
       "4          0          0          0          0          0          0   \n",
       "\n",
       "   month_nov  month_oct  month_sep  \n",
       "0          0          1          0  \n",
       "1          0          1          0  \n",
       "2          0          1          0  \n",
       "3          1          0          0  \n",
       "4          1          0          0  "
      ]
     },
     "execution_count": 24,
     "metadata": {},
     "output_type": "execute_result"
    }
   ],
   "source": [
    "df_b.head()"
   ]
  },
  {
   "cell_type": "markdown",
   "metadata": {},
   "source": [
    "### Splitting the Data and scaling\n",
    "\n",
    "- We will use the train_test_split to split the dataset into train and test data\n",
    "- We will use the MinMax Scaler: MinMax scaling is used to avoid any feature to dominate the model. MinMax scaling scales all the data in the columns between 0 to 1."
   ]
  },
  {
   "cell_type": "code",
   "execution_count": 25,
   "metadata": {},
   "outputs": [],
   "source": [
    "from sklearn.model_selection import train_test_split\n",
    "\n",
    "X= df_b.drop(['deposit'], axis=1)\n",
    "y = df_b['deposit']\n",
    "X_train_org, X_test_org, y_train, y_test = train_test_split(X, y, random_state = 0)\n"
   ]
  },
  {
   "cell_type": "code",
   "execution_count": 26,
   "metadata": {},
   "outputs": [],
   "source": [
    "from sklearn.preprocessing import MinMaxScaler\n",
    "\n",
    "scaler = MinMaxScaler()\n",
    "X_train = scaler.fit_transform(X_train_org)\n",
    "X_test = scaler.transform(X_test_org)"
   ]
  },
  {
   "cell_type": "code",
   "execution_count": 27,
   "metadata": {},
   "outputs": [],
   "source": [
    "# importing necessary libraries \n",
    "from sklearn.model_selection import GridSearchCV\n",
    "from sklearn.metrics import accuracy_score,confusion_matrix,classification_report\n",
    "from sklearn.model_selection import cross_val_score\n",
    "import matplotlib.pyplot as plt"
   ]
  },
  {
   "cell_type": "markdown",
   "metadata": {},
   "source": [
    "## Classification: Models"
   ]
  },
  {
   "cell_type": "markdown",
   "metadata": {},
   "source": [
    "The following classifiers are implemented in the next part:\n",
    "* K Nearest Neighbor\n",
    "* Logistic Regression\n",
    "* Linear SVC\n",
    "* Kernalized SVC - Linear\n",
    "* Kernalized SVC - rbf\n",
    "* Kernalized SVC - poly\n",
    "* Decision Tree    \n"
   ]
  },
  {
   "cell_type": "markdown",
   "metadata": {},
   "source": [
    "## KNN classification"
   ]
  },
  {
   "cell_type": "code",
   "execution_count": 28,
   "metadata": {},
   "outputs": [
    {
     "data": {
      "text/plain": [
       "GridSearchCV(cv=10, error_score=nan,\n",
       "             estimator=KNeighborsClassifier(algorithm='auto', leaf_size=30,\n",
       "                                            metric='minkowski',\n",
       "                                            metric_params=None, n_jobs=None,\n",
       "                                            n_neighbors=5, p=2,\n",
       "                                            weights='uniform'),\n",
       "             iid='deprecated', n_jobs=None,\n",
       "             param_grid={'n_neighbors': array([ 1,  2,  3,  4,  5,  6,  7,  8,  9, 10, 11, 12, 13, 14, 15, 16, 17,\n",
       "       18, 19])},\n",
       "             pre_dispatch='2*n_jobs', refit=True, return_train_score=False,\n",
       "             scoring=None, verbose=0)"
      ]
     },
     "execution_count": 28,
     "metadata": {},
     "output_type": "execute_result"
    }
   ],
   "source": [
    "from sklearn.neighbors import KNeighborsClassifier\n",
    "\n",
    "\n",
    "knn_classifier = KNeighborsClassifier()\n",
    "parameters = {'n_neighbors': np.arange(1, 20)}\n",
    "knn_grid = GridSearchCV(knn_classifier, param_grid=parameters,cv = 10)\n",
    "knn_grid.fit(X_train, y_train)"
   ]
  },
  {
   "cell_type": "code",
   "execution_count": 29,
   "metadata": {},
   "outputs": [
    {
     "name": "stdout",
     "output_type": "stream",
     "text": [
      "Best Score for KNN classification from grid search:  0.770110284347595\n",
      "Best parameter for KNN classificaion from grid search:  {'n_neighbors': 19}\n"
     ]
    }
   ],
   "source": [
    "print(\"Best Score for KNN classification from grid search: \",knn_grid.best_score_)\n",
    "print(\"Best parameter for KNN classificaion from grid search: \",knn_grid.best_params_)"
   ]
  },
  {
   "cell_type": "code",
   "execution_count": 30,
   "metadata": {},
   "outputs": [
    {
     "data": {
      "text/plain": [
       "KNeighborsClassifier(algorithm='auto', leaf_size=30, metric='minkowski',\n",
       "                     metric_params=None, n_jobs=None, n_neighbors=19, p=2,\n",
       "                     weights='uniform')"
      ]
     },
     "execution_count": 30,
     "metadata": {},
     "output_type": "execute_result"
    }
   ],
   "source": [
    "knn = KNeighborsClassifier(n_neighbors=19)\n",
    "knn.fit(X_train, y_train)\n"
   ]
  },
  {
   "cell_type": "code",
   "execution_count": 31,
   "metadata": {},
   "outputs": [],
   "source": [
    "cross_val_scores_knn = cross_val_score(knn,X_train, y_train,cv=10)"
   ]
  },
  {
   "cell_type": "code",
   "execution_count": 32,
   "metadata": {},
   "outputs": [
    {
     "name": "stdout",
     "output_type": "stream",
     "text": [
      "The Cross validation scores for the training set for KNN is:[0.77934272 0.78873239 0.71361502 0.79812207 0.76056338 0.74178404\n",
      " 0.78403756 0.78301887 0.79716981 0.75471698]\n",
      "The Mean Cross validation score for training set for KNN is:0.770110284347595\n"
     ]
    }
   ],
   "source": [
    "print('The Cross validation scores for the training set for KNN is:{}'.format(cross_val_scores_knn))\n",
    "print('The Mean Cross validation score for training set for KNN is:{}'.format(np.mean(cross_val_scores_knn)))"
   ]
  },
  {
   "cell_type": "code",
   "execution_count": 33,
   "metadata": {},
   "outputs": [
    {
     "name": "stdout",
     "output_type": "stream",
     "text": [
      "              precision    recall  f1-score   support\n",
      "\n",
      "           0       0.69      0.64      0.66       252\n",
      "           1       0.81      0.84      0.83       457\n",
      "\n",
      "    accuracy                           0.77       709\n",
      "   macro avg       0.75      0.74      0.74       709\n",
      "weighted avg       0.77      0.77      0.77       709\n",
      "\n",
      "The Train score is:0.7884344146685472\n",
      "The Test score is:0.770098730606488\n"
     ]
    }
   ],
   "source": [
    "knn_test_predict = knn.predict(X_test)\n",
    "knn_train_predict=knn.predict(X_train)\n",
    "print(classification_report(y_test,knn_test_predict))\n",
    "print('The Train score is:{}'.format(accuracy_score(y_train,knn_train_predict)))\n",
    "print('The Test score is:{}'.format(accuracy_score(y_test,knn_test_predict)))"
   ]
  },
  {
   "cell_type": "code",
   "execution_count": 34,
   "metadata": {},
   "outputs": [],
   "source": [
    "train_score_array = []\n",
    "test_score_array = []\n",
    "\n",
    "for k in range(1,20):\n",
    "    knn_classifier = KNeighborsClassifier(n_neighbors=k)\n",
    "    knn_classifier.fit(X_train, y_train)\n",
    "    train_score_array.append(knn_classifier.score(X_train, y_train))\n",
    "    test_score_array.append(knn_classifier.score(X_test, y_test))"
   ]
  },
  {
   "cell_type": "code",
   "execution_count": 35,
   "metadata": {},
   "outputs": [
    {
     "data": {
      "text/plain": [
       "<matplotlib.legend.Legend at 0x1bf0af3f448>"
      ]
     },
     "execution_count": 35,
     "metadata": {},
     "output_type": "execute_result"
    },
    {
     "data": {
      "image/png": "[encoded data removed]",
      "text/plain": [
       "<Figure size 432x288 with 1 Axes>"
      ]
     },
     "metadata": {
      "needs_background": "light"
     },
     "output_type": "display_data"
    }
   ],
   "source": [
    "x_axis = range(1,20)\n",
    "%matplotlib inline\n",
    "plt.plot(x_axis, train_score_array, label = 'Train Score', c = 'g')\n",
    "plt.plot(x_axis, test_score_array, label = 'Test Score', c='b')\n",
    "plt.xlabel('k')\n",
    "plt.ylabel('Accuracy')\n",
    "plt.legend()"
   ]
  },
  {
   "cell_type": "markdown",
   "metadata": {},
   "source": [
    "## LogisticRegression"
   ]
  },
  {
   "cell_type": "code",
   "execution_count": 36,
   "metadata": {},
   "outputs": [],
   "source": [
    "# importing required libraries\n",
    "from sklearn.linear_model import LogisticRegression\n",
    "\n",
    "log_classifier = LogisticRegression(random_state=0)"
   ]
  },
  {
   "cell_type": "code",
   "execution_count": 37,
   "metadata": {},
   "outputs": [],
   "source": [
    "\n",
    "parameters = [{'C':[0.001, 0.01, 0.1, 1, 10, 100, 1000],'penalty':['l2']}]\n",
    "               \n",
    "log_grid =GridSearchCV(estimator = log_classifier,\n",
    "                           param_grid = parameters,\n",
    "                         cv = 10)\n",
    "               \n",
    "log_grid = log_grid.fit(X_train,y_train)"
   ]
  },
  {
   "cell_type": "code",
   "execution_count": 38,
   "metadata": {},
   "outputs": [
    {
     "name": "stdout",
     "output_type": "stream",
     "text": [
      "Best Score for Logistic classification from grid search:  0.830740100983258\n",
      "Best parameter for Logistic classificaion from grid search:  {'C': 10, 'penalty': 'l2'}\n"
     ]
    }
   ],
   "source": [
    "\n",
    "print(\"Best Score for Logistic classification from grid search: \",log_grid.best_score_)\n",
    "print(\"Best parameter for Logistic classificaion from grid search: \",log_grid.best_params_)"
   ]
  },
  {
   "cell_type": "code",
   "execution_count": 39,
   "metadata": {},
   "outputs": [
    {
     "data": {
      "text/plain": [
       "LogisticRegression(C=10, class_weight=None, dual=False, fit_intercept=True,\n",
       "                   intercept_scaling=1, l1_ratio=None, max_iter=100,\n",
       "                   multi_class='auto', n_jobs=None, penalty='l2',\n",
       "                   random_state=0, solver='lbfgs', tol=0.0001, verbose=0,\n",
       "                   warm_start=False)"
      ]
     },
     "execution_count": 39,
     "metadata": {},
     "output_type": "execute_result"
    }
   ],
   "source": [
    "logC = LogisticRegression(penalty = 'l2', C = 10, random_state=0)\n",
    "logC.fit(X_train, y_train)"
   ]
  },
  {
   "cell_type": "code",
   "execution_count": 40,
   "metadata": {},
   "outputs": [],
   "source": [
    "cross_val_scores_logC = cross_val_score(logC,X_train, y_train,cv=10)"
   ]
  },
  {
   "cell_type": "code",
   "execution_count": 41,
   "metadata": {},
   "outputs": [
    {
     "name": "stdout",
     "output_type": "stream",
     "text": [
      "The Cross validation scores for the training set for Logistic is:[0.84976526 0.80751174 0.83568075 0.85446009 0.81690141 0.79812207\n",
      " 0.8685446  0.83490566 0.84433962 0.79716981]\n",
      "The Mean Cross val score for training set for Logistic is:0.830740100983258\n"
     ]
    }
   ],
   "source": [
    "print('The Cross validation scores for the training set for Logistic is:{}'.format(cross_val_scores_logC))\n",
    "print('The Mean Cross val score for training set for Logistic is:{}'.format(np.mean(cross_val_scores_logC)))"
   ]
  },
  {
   "cell_type": "code",
   "execution_count": 42,
   "metadata": {},
   "outputs": [
    {
     "name": "stdout",
     "output_type": "stream",
     "text": [
      "              precision    recall  f1-score   support\n",
      "\n",
      "           0       0.80      0.69      0.74       252\n",
      "           1       0.84      0.90      0.87       457\n",
      "\n",
      "    accuracy                           0.83       709\n",
      "   macro avg       0.82      0.80      0.81       709\n",
      "weighted avg       0.83      0.83      0.82       709\n",
      "\n",
      "The Train score is:0.84109073812882\n",
      "The Test score is:0.8279266572637518\n"
     ]
    }
   ],
   "source": [
    "logC_test_predict = logC.predict(X_test)\n",
    "logC_train_predict=logC.predict(X_train)\n",
    "print(classification_report(y_test,logC_test_predict))\n",
    "print('The Train score is:{}'.format(accuracy_score(y_train,logC_train_predict)))\n",
    "print('The Test score is:{}'.format(accuracy_score(y_test,logC_test_predict)))"
   ]
  },
  {
   "cell_type": "code",
   "execution_count": 43,
   "metadata": {},
   "outputs": [],
   "source": [
    "c_range = [0.001, 0.01, 0.1, 1, 10, 100, 1000]\n",
    "train_score_array = []\n",
    "test_score_array = []\n",
    "\n",
    "for c in c_range:\n",
    "    \n",
    "    logC_classifier = LogisticRegression(penalty = 'l2', C = c,random_state=0)\n",
    "    logC_classifier.fit(X_train, y_train)\n",
    "    train_score_array.append(logC_classifier.score(X_train, y_train))\n",
    "    test_score_array.append(logC_classifier.score(X_test, y_test))\n",
    "    "
   ]
  },
  {
   "cell_type": "code",
   "execution_count": 44,
   "metadata": {},
   "outputs": [
    {
     "data": {
      "image/png": "[encoded data removed]",
      "text/plain": [
       "<Figure size 432x288 with 1 Axes>"
      ]
     },
     "metadata": {
      "needs_background": "light"
     },
     "output_type": "display_data"
    }
   ],
   "source": [
    "%matplotlib inline\n",
    "\n",
    "plt.plot(c_range, train_score_array, label = 'Train score, penalty = l2')\n",
    "plt.plot(c_range, test_score_array, label = 'Test score, penalty = l2')\n",
    "plt.legend()\n",
    "plt.xlabel('Regularization parameter: C')\n",
    "plt.ylabel('Accuracy')\n",
    "plt.xscale('log')"
   ]
  },
  {
   "cell_type": "markdown",
   "metadata": {},
   "source": [
    "## LinearSVC"
   ]
  },
  {
   "cell_type": "code",
   "execution_count": 45,
   "metadata": {},
   "outputs": [],
   "source": [
    "from sklearn.svm import LinearSVC\n",
    "\n",
    "lsvc_classifier = LinearSVC()"
   ]
  },
  {
   "cell_type": "code",
   "execution_count": 46,
   "metadata": {},
   "outputs": [],
   "source": [
    "\n",
    "\n",
    "parameters = [{'C':[0.001, 0.01, 0.1, 1, 10, 100,1000]}]\n",
    "               \n",
    "lsvc_grid =GridSearchCV(estimator = lsvc_classifier,\n",
    "                           param_grid = parameters,cv = 10)\n",
    "               \n",
    "lsvc_grid = lsvc_grid.fit(X_train,y_train)"
   ]
  },
  {
   "cell_type": "code",
   "execution_count": 47,
   "metadata": {},
   "outputs": [
    {
     "name": "stdout",
     "output_type": "stream",
     "text": [
      "Best Score for LinearSVC classification from grid search:  0.829801133847108\n",
      "Best parameter for LinearSVC classificaion from grid search:  {'C': 10}\n"
     ]
    }
   ],
   "source": [
    "print(\"Best Score for LinearSVC classification from grid search: \",lsvc_grid.best_score_)\n",
    "print(\"Best parameter for LinearSVC classificaion from grid search: \",lsvc_grid.best_params_)\n"
   ]
  },
  {
   "cell_type": "code",
   "execution_count": 48,
   "metadata": {},
   "outputs": [
    {
     "data": {
      "text/plain": [
       "LinearSVC(C=10, class_weight=None, dual=True, fit_intercept=True,\n",
       "          intercept_scaling=1, loss='squared_hinge', max_iter=1000,\n",
       "          multi_class='ovr', penalty='l2', random_state=None, tol=0.0001,\n",
       "          verbose=0)"
      ]
     },
     "execution_count": 48,
     "metadata": {},
     "output_type": "execute_result"
    }
   ],
   "source": [
    "lsvc = LinearSVC(C=10)\n",
    "lsvc.fit(X_train, y_train)"
   ]
  },
  {
   "cell_type": "code",
   "execution_count": 49,
   "metadata": {},
   "outputs": [],
   "source": [
    "cross_val_scores_lsvc= cross_val_score(lsvc,X_train, y_train,cv=10)"
   ]
  },
  {
   "cell_type": "code",
   "execution_count": 50,
   "metadata": {},
   "outputs": [
    {
     "name": "stdout",
     "output_type": "stream",
     "text": [
      "The Cross validation scores for the training set for LinearSVC is:[0.84507042 0.8028169  0.83568075 0.84976526 0.81690141 0.79342723\n",
      " 0.87323944 0.83490566 0.84433962 0.78773585]\n",
      "The Mean Cross val score for training set for LinearSVC is:0.8283882540526177\n"
     ]
    }
   ],
   "source": [
    "print('The Cross validation scores for the training set for LinearSVC is:{}'.format(cross_val_scores_lsvc))\n",
    "print('The Mean Cross val score for training set for LinearSVC is:{}'.format(np.mean(cross_val_scores_lsvc)))"
   ]
  },
  {
   "cell_type": "code",
   "execution_count": 51,
   "metadata": {},
   "outputs": [
    {
     "name": "stdout",
     "output_type": "stream",
     "text": [
      "              precision    recall  f1-score   support\n",
      "\n",
      "           0       0.80      0.70      0.74       252\n",
      "           1       0.84      0.90      0.87       457\n",
      "\n",
      "    accuracy                           0.83       709\n",
      "   macro avg       0.82      0.80      0.81       709\n",
      "weighted avg       0.83      0.83      0.83       709\n",
      "\n",
      "The Train score is:0.8392101551480959\n",
      "The Test score is:0.8293370944992948\n"
     ]
    }
   ],
   "source": [
    "lsvc_test_predict = lsvc.predict(X_test)\n",
    "lsvc_train_predict=lsvc.predict(X_train)\n",
    "print(classification_report(y_test,lsvc_test_predict))\n",
    "print('The Train score is:{}'.format(accuracy_score(y_train,lsvc_train_predict)))\n",
    "print('The Test score is:{}'.format(accuracy_score(y_test,lsvc_test_predict)))"
   ]
  },
  {
   "cell_type": "code",
   "execution_count": 52,
   "metadata": {},
   "outputs": [],
   "source": [
    "train_score_array = []\n",
    "test_score_array = []\n",
    "x_range = [0.001, 0.01, 0.1, 1, 10, 100,1000]\n",
    "\n",
    "for alpha in x_range: \n",
    "    lsvc_classifier = LinearSVC(C=alpha, random_state=0)\n",
    "    lsvc_classifier.fit(X_train, y_train)\n",
    "    train_score_array.append(lsvc_classifier.score(X_train, y_train))\n",
    "    test_score_array.append(lsvc_classifier.score(X_test, y_test))"
   ]
  },
  {
   "cell_type": "code",
   "execution_count": 53,
   "metadata": {},
   "outputs": [
    {
     "data": {
      "text/plain": [
       "Text(0, 0.5, 'Accuracy')"
      ]
     },
     "execution_count": 53,
     "metadata": {},
     "output_type": "execute_result"
    },
    {
     "data": {
      "image/png": "[encoded data removed]",
      "text/plain": [
       "<Figure size 432x288 with 1 Axes>"
      ]
     },
     "metadata": {
      "needs_background": "light"
     },
     "output_type": "display_data"
    }
   ],
   "source": [
    "plt.plot(x_range, train_score_array, c = 'g', label = 'Train Score')\n",
    "plt.plot(x_range, test_score_array, c = 'b', label = 'Test Score')\n",
    "plt.xscale('log')\n",
    "plt.xlabel('Regularization parameter: C')\n",
    "plt.legend()\n",
    "plt.xlabel('C')\n",
    "plt.ylabel('Accuracy')\n",
    "\n",
    "\n"
   ]
  },
  {
   "cell_type": "markdown",
   "metadata": {},
   "source": [
    "## Kernelized SVC (linear)"
   ]
  },
  {
   "cell_type": "code",
   "execution_count": 54,
   "metadata": {},
   "outputs": [],
   "source": [
    "from sklearn.svm import SVC\n",
    "\n",
    "svc_classifier = SVC(kernel='linear')\n",
    "\n",
    "parameters = [{'C':[0.001, 0.01, 0.1, 1, 10, 100,1000]}]\n",
    "\n",
    "svc_grid =  GridSearchCV(estimator = svc_classifier,\n",
    "                           param_grid = parameters,\n",
    "                         cv = 10)\n",
    "\n",
    "svc_grid  = svc_grid .fit(X_train,y_train)"
   ]
  },
  {
   "cell_type": "code",
   "execution_count": 55,
   "metadata": {},
   "outputs": [
    {
     "name": "stdout",
     "output_type": "stream",
     "text": [
      "Best Score for linear kernel svc classification from grid search:  0.8316857117548055\n",
      "Best parameter for linear kernel svc classificaion from grid search:  {'C': 1000}\n"
     ]
    }
   ],
   "source": [
    "print(\"Best Score for linear kernel svc classification from grid search: \",svc_grid.best_score_)\n",
    "print(\"Best parameter for linear kernel svc classificaion from grid search: \",svc_grid.best_params_)"
   ]
  },
  {
   "cell_type": "code",
   "execution_count": 56,
   "metadata": {},
   "outputs": [
    {
     "data": {
      "text/plain": [
       "SVC(C=1000, break_ties=False, cache_size=200, class_weight=None, coef0=0.0,\n",
       "    decision_function_shape='ovr', degree=3, gamma='scale', kernel='linear',\n",
       "    max_iter=-1, probability=False, random_state=None, shrinking=True,\n",
       "    tol=0.001, verbose=False)"
      ]
     },
     "execution_count": 56,
     "metadata": {},
     "output_type": "execute_result"
    }
   ],
   "source": [
    "svcl = SVC(kernel='linear',C=1000)\n",
    "svcl.fit(X_train, y_train)"
   ]
  },
  {
   "cell_type": "code",
   "execution_count": 57,
   "metadata": {},
   "outputs": [],
   "source": [
    "cross_val_scores_svcl= cross_val_score(svcl ,X_train, y_train,cv=10)"
   ]
  },
  {
   "cell_type": "code",
   "execution_count": 58,
   "metadata": {},
   "outputs": [
    {
     "name": "stdout",
     "output_type": "stream",
     "text": [
      "The Cross validation scores for the training set for linear kernel svc is:[0.84507042 0.79812207 0.82159624 0.84976526 0.84037559 0.79812207\n",
      " 0.87323944 0.84433962 0.83962264 0.80660377]\n",
      "The Mean Cross val score for training set for linear kernel svc is:0.8316857117548055\n"
     ]
    }
   ],
   "source": [
    "print('The Cross validation scores for the training set for linear kernel svc is:{}'.format(cross_val_scores_svcl))\n",
    "print('The Mean Cross val score for training set for linear kernel svc is:{}'.format(np.mean(cross_val_scores_svcl)))"
   ]
  },
  {
   "cell_type": "code",
   "execution_count": 59,
   "metadata": {},
   "outputs": [
    {
     "name": "stdout",
     "output_type": "stream",
     "text": [
      "              precision    recall  f1-score   support\n",
      "\n",
      "           0       0.81      0.71      0.75       252\n",
      "           1       0.85      0.91      0.88       457\n",
      "\n",
      "    accuracy                           0.84       709\n",
      "   macro avg       0.83      0.81      0.82       709\n",
      "weighted avg       0.83      0.84      0.83       709\n",
      "\n",
      "The Train score is:0.8359191349318289\n",
      "The Test score is:0.8363892806770099\n"
     ]
    }
   ],
   "source": [
    "svcl_test_predict = svcl.predict(X_test)\n",
    "svcl_train_predict = svcl.predict(X_train)\n",
    "print(classification_report(y_test,svcl_test_predict))\n",
    "print('The Train score is:{}'.format(accuracy_score(y_train,svcl_train_predict)))\n",
    "print('The Test score is:{}'.format(accuracy_score(y_test,svcl_test_predict)))"
   ]
  },
  {
   "cell_type": "code",
   "execution_count": 60,
   "metadata": {},
   "outputs": [],
   "source": [
    "train_score_array = []\n",
    "test_score_array = []\n",
    "x_range = [0.001, 0.01, 0.1, 1, 10, 100,1000]\n",
    "\n",
    "for alpha in x_range: \n",
    "    svcl_classifier = SVC(kernel='linear',C=alpha,random_state=0)\n",
    "    svcl_classifier.fit(X_train, y_train)\n",
    "    train_score_array.append(svcl_classifier.score(X_train, y_train))\n",
    "    test_score_array.append(svcl_classifier.score(X_test, y_test))\n",
    "    \n",
    "    "
   ]
  },
  {
   "cell_type": "code",
   "execution_count": 61,
   "metadata": {},
   "outputs": [
    {
     "data": {
      "text/plain": [
       "Text(0.5, 0, 'Regularization parameter: C')"
      ]
     },
     "execution_count": 61,
     "metadata": {},
     "output_type": "execute_result"
    },
    {
     "data": {
      "image/png": "[encoded data removed]",
      "text/plain": [
       "<Figure size 432x288 with 1 Axes>"
      ]
     },
     "metadata": {
      "needs_background": "light"
     },
     "output_type": "display_data"
    }
   ],
   "source": [
    "plt.plot(x_range, train_score_array, c = 'g', label = 'Train Score')\n",
    "plt.plot(x_range, test_score_array, c = 'b', label = 'Test Score')\n",
    "plt.xscale('log')\n",
    "plt.legend()\n",
    "plt.xlabel('C')\n",
    "plt.ylabel('Accuracy')\n",
    "plt.xlabel('Regularization parameter: C')\n",
    "\n",
    "\n"
   ]
  },
  {
   "cell_type": "markdown",
   "metadata": {},
   "source": [
    "## Kernelized SVC (RBF)"
   ]
  },
  {
   "cell_type": "code",
   "execution_count": 62,
   "metadata": {},
   "outputs": [],
   "source": [
    "from sklearn.svm import SVC\n",
    "\n",
    "rsvc_classifier = SVC(kernel='rbf')\n",
    "\n",
    "parameters = [{'C':[0.001, 0.01, 0.1, 1, 10, 100,1000],'gamma':[0.1,0.2,0.3,0.4,0.5]}]\n",
    "\n",
    "rsvc_grid =  GridSearchCV(estimator = rsvc_classifier,\n",
    "                           param_grid = parameters,\n",
    "                         cv = 10)\n",
    "\n",
    "rsvc_grid  = rsvc_grid.fit(X_train,y_train)\n",
    "                "
   ]
  },
  {
   "cell_type": "code",
   "execution_count": 63,
   "metadata": {},
   "outputs": [
    {
     "name": "stdout",
     "output_type": "stream",
     "text": [
      "Best Score for RBF kernel svc classification from grid search:  0.817131721144477\n",
      "Best parameter for RBF kernel svc classificaion from grid search:  {'C': 10, 'gamma': 0.1}\n"
     ]
    }
   ],
   "source": [
    "print(\"Best Score for RBF kernel svc classification from grid search: \",rsvc_grid.best_score_)\n",
    "print(\"Best parameter for RBF kernel svc classificaion from grid search: \",rsvc_grid.best_params_)"
   ]
  },
  {
   "cell_type": "code",
   "execution_count": 64,
   "metadata": {},
   "outputs": [
    {
     "data": {
      "text/plain": [
       "SVC(C=10, break_ties=False, cache_size=200, class_weight=None, coef0=0.0,\n",
       "    decision_function_shape='ovr', degree=3, gamma=0.1, kernel='rbf',\n",
       "    max_iter=-1, probability=False, random_state=None, shrinking=True,\n",
       "    tol=0.001, verbose=False)"
      ]
     },
     "execution_count": 64,
     "metadata": {},
     "output_type": "execute_result"
    }
   ],
   "source": [
    "rsvc = SVC(kernel='rbf',C=10,gamma=0.1)\n",
    "rsvc.fit(X_train, y_train)"
   ]
  },
  {
   "cell_type": "code",
   "execution_count": 65,
   "metadata": {},
   "outputs": [],
   "source": [
    "cross_val_scores_rsvc= cross_val_score(rsvc,X_train, y_train,cv=10)"
   ]
  },
  {
   "cell_type": "code",
   "execution_count": 66,
   "metadata": {},
   "outputs": [
    {
     "name": "stdout",
     "output_type": "stream",
     "text": [
      "The Cross validation scores for the training set for RBF kernel svc is:[0.82629108 0.8028169  0.78403756 0.84037559 0.81220657 0.77464789\n",
      " 0.84037559 0.83490566 0.83962264 0.81603774]\n",
      "The Mean Cross val score for training set for RBF kernel svc is:0.817131721144477\n"
     ]
    }
   ],
   "source": [
    "print('The Cross validation scores for the training set for RBF kernel svc is:{}'.format(cross_val_scores_rsvc))\n",
    "print('The Mean Cross val score for training set for RBF kernel svc is:{}'.format(np.mean(cross_val_scores_rsvc)))"
   ]
  },
  {
   "cell_type": "code",
   "execution_count": 67,
   "metadata": {},
   "outputs": [
    {
     "name": "stdout",
     "output_type": "stream",
     "text": [
      "              precision    recall  f1-score   support\n",
      "\n",
      "           0       0.81      0.72      0.76       252\n",
      "           1       0.86      0.91      0.88       457\n",
      "\n",
      "    accuracy                           0.84       709\n",
      "   macro avg       0.83      0.82      0.82       709\n",
      "weighted avg       0.84      0.84      0.84       709\n",
      "\n",
      "The Train score is:0.8725905030559473\n",
      "The Test score is:0.842031029619182\n"
     ]
    }
   ],
   "source": [
    "rsvc_test_predict = rsvc.predict(X_test)\n",
    "rsvc_train_predict =rsvc.predict(X_train)\n",
    "print(classification_report(y_test,rsvc_test_predict))\n",
    "print('The Train score is:{}'.format(accuracy_score(y_train,rsvc_train_predict)))\n",
    "print('The Test score is:{}'.format(accuracy_score(y_test,rsvc_test_predict)))"
   ]
  },
  {
   "cell_type": "code",
   "execution_count": 68,
   "metadata": {},
   "outputs": [],
   "source": [
    "train_score_array = []\n",
    "test_score_array = []\n",
    "x_range = [0.001, 0.01, 0.1, 1, 10, 100,1000]\n",
    "\n",
    "for alpha in x_range: \n",
    "    rsvc_classifier = SVC(kernel='rbf',C=alpha,gamma=0.1)\n",
    "    rsvc_classifier.fit(X_train, y_train)\n",
    "    train_score_array.append(rsvc_classifier.score(X_train, y_train))\n",
    "    test_score_array.append(rsvc_classifier.score(X_test, y_test))"
   ]
  },
  {
   "cell_type": "code",
   "execution_count": 69,
   "metadata": {},
   "outputs": [
    {
     "data": {
      "text/plain": [
       "Text(0.5, 0, 'Regularization parameter: C')"
      ]
     },
     "execution_count": 69,
     "metadata": {},
     "output_type": "execute_result"
    },
    {
     "data": {
      "image/png": "[encoded data removed]",
      "text/plain": [
       "<Figure size 432x288 with 1 Axes>"
      ]
     },
     "metadata": {
      "needs_background": "light"
     },
     "output_type": "display_data"
    }
   ],
   "source": [
    "plt.plot(x_range, train_score_array, c = 'g', label = 'Train Score')\n",
    "plt.plot(x_range, test_score_array, c = 'b', label = 'Test Score')\n",
    "plt.xscale('log')\n",
    "plt.legend()\n",
    "plt.xlabel('C')\n",
    "plt.ylabel('Accuracy')\n",
    "plt.xlabel('Regularization parameter: C')\n",
    "\n",
    "\n"
   ]
  },
  {
   "cell_type": "markdown",
   "metadata": {},
   "source": [
    "## Kernelized SVC (Poly)"
   ]
  },
  {
   "cell_type": "code",
   "execution_count": 70,
   "metadata": {},
   "outputs": [],
   "source": [
    "from sklearn.svm import SVC\n",
    "\n",
    "psvc_classifier = SVC(kernel='poly')\n",
    "\n",
    "parameters = [{'C':[0.001, 0.01, 0.1, 1, 10, 100],'degree':[1,2,3,4,5]}]\n",
    "\n",
    "psvc_grid =  GridSearchCV(estimator = psvc_classifier,\n",
    "                           param_grid = parameters,\n",
    "                         cv = 10)\n",
    "\n",
    "psvc_grid = psvc_grid.fit(X_train,y_train)\n",
    "                \n",
    "                "
   ]
  },
  {
   "cell_type": "code",
   "execution_count": 71,
   "metadata": {},
   "outputs": [
    {
     "name": "stdout",
     "output_type": "stream",
     "text": [
      "Best Score for Poly kernel svc classification from grid search:  0.8293316502790326\n",
      "Best parameter for Poly kernel svc classificaion from grid search:  {'C': 10, 'degree': 1}\n"
     ]
    }
   ],
   "source": [
    "print(\"Best Score for Poly kernel svc classification from grid search: \",psvc_grid.best_score_)\n",
    "print(\"Best parameter for Poly kernel svc classificaion from grid search: \",psvc_grid.best_params_)"
   ]
  },
  {
   "cell_type": "code",
   "execution_count": 72,
   "metadata": {},
   "outputs": [
    {
     "data": {
      "text/plain": [
       "SVC(C=10, break_ties=False, cache_size=200, class_weight=None, coef0=0.0,\n",
       "    decision_function_shape='ovr', degree=1, gamma='scale', kernel='poly',\n",
       "    max_iter=-1, probability=False, random_state=None, shrinking=True,\n",
       "    tol=0.001, verbose=False)"
      ]
     },
     "execution_count": 72,
     "metadata": {},
     "output_type": "execute_result"
    }
   ],
   "source": [
    "psvc = SVC(kernel='poly',C=10,degree=1)\n",
    "psvc.fit(X_train, y_train)"
   ]
  },
  {
   "cell_type": "code",
   "execution_count": 73,
   "metadata": {},
   "outputs": [],
   "source": [
    "cross_val_scores_psvc= cross_val_score(psvc,X_train, y_train,cv=10)"
   ]
  },
  {
   "cell_type": "code",
   "execution_count": 74,
   "metadata": {},
   "outputs": [
    {
     "name": "stdout",
     "output_type": "stream",
     "text": [
      "The Cross validation scores for the training set for Poly Kernel svc is:[0.85915493 0.79812207 0.81690141 0.84507042 0.84037559 0.79342723\n",
      " 0.86384977 0.85377358 0.83018868 0.79245283]\n",
      "The Mean Cross val score for training set or Poly Kernel svc is:0.8293316502790326\n"
     ]
    }
   ],
   "source": [
    "print('The Cross validation scores for the training set for Poly Kernel svc is:{}'.format(cross_val_scores_psvc))\n",
    "print('The Mean Cross val score for training set or Poly Kernel svc is:{}'.format(np.mean(cross_val_scores_psvc)))"
   ]
  },
  {
   "cell_type": "code",
   "execution_count": 75,
   "metadata": {},
   "outputs": [
    {
     "name": "stdout",
     "output_type": "stream",
     "text": [
      "              precision    recall  f1-score   support\n",
      "\n",
      "           0       0.81      0.72      0.76       252\n",
      "           1       0.85      0.91      0.88       457\n",
      "\n",
      "    accuracy                           0.84       709\n",
      "   macro avg       0.83      0.81      0.82       709\n",
      "weighted avg       0.84      0.84      0.84       709\n",
      "\n",
      "The Train score is:0.8368594264221909\n",
      "The Test score is:0.840620592383639\n"
     ]
    }
   ],
   "source": [
    "psvc_test_predict = psvc.predict(X_test)\n",
    "psvc_train_predict = psvc.predict(X_train)\n",
    "print(classification_report(y_test,psvc_test_predict))\n",
    "print('The Train score is:{}'.format(accuracy_score(y_train,psvc_train_predict)))\n",
    "print('The Test score is:{}'.format(accuracy_score(y_test,psvc_test_predict)))"
   ]
  },
  {
   "cell_type": "code",
   "execution_count": 76,
   "metadata": {},
   "outputs": [],
   "source": [
    "train_score_array = []\n",
    "test_score_array = []\n",
    "x_range = [0.001, 0.01, 0.1, 1, 10, 100]\n",
    "\n",
    "for alpha in x_range: \n",
    "    psvc_classifier = SVC(kernel='poly',C=alpha,degree=1)\n",
    "    psvc_classifier.fit(X_train, y_train)\n",
    "    train_score_array.append(psvc_classifier.score(X_train, y_train))\n",
    "    test_score_array.append(psvc_classifier.score(X_test, y_test))"
   ]
  },
  {
   "cell_type": "code",
   "execution_count": 77,
   "metadata": {},
   "outputs": [
    {
     "data": {
      "text/plain": [
       "Text(0.5, 0, 'Regularization parameter: C')"
      ]
     },
     "execution_count": 77,
     "metadata": {},
     "output_type": "execute_result"
    },
    {
     "data": {
      "image/png": "[encoded data removed]",
      "text/plain": [
       "<Figure size 432x288 with 1 Axes>"
      ]
     },
     "metadata": {
      "needs_background": "light"
     },
     "output_type": "display_data"
    }
   ],
   "source": [
    "plt.plot(x_range, train_score_array, c = 'g', label = 'Train Score')\n",
    "plt.plot(x_range, test_score_array, c = 'b', label = 'Test Score')\n",
    "plt.xscale('log')\n",
    "plt.legend()\n",
    "plt.xlabel('C')\n",
    "plt.ylabel('Accuracy')\n",
    "plt.xlabel('Regularization parameter: C')\n",
    "\n",
    "\n"
   ]
  },
  {
   "cell_type": "markdown",
   "metadata": {},
   "source": [
    "## Decision Tree"
   ]
  },
  {
   "cell_type": "code",
   "execution_count": 78,
   "metadata": {},
   "outputs": [
    {
     "data": {
      "text/plain": [
       "GridSearchCV(cv=10, error_score=nan,\n",
       "             estimator=DecisionTreeClassifier(ccp_alpha=0.0, class_weight=None,\n",
       "                                              criterion='gini', max_depth=None,\n",
       "                                              max_features=None,\n",
       "                                              max_leaf_nodes=None,\n",
       "                                              min_impurity_decrease=0.0,\n",
       "                                              min_impurity_split=None,\n",
       "                                              min_samples_leaf=1,\n",
       "                                              min_samples_split=2,\n",
       "                                              min_weight_fraction_leaf=0.0,\n",
       "                                              presort='deprecated',\n",
       "                                              random_state=0, splitter='best'),\n",
       "             iid='deprecated', n_jobs=None,\n",
       "             param_grid={'max_depth': array([ 1,  2,  3,  4,  5,  6,  7,  8,  9, 10, 11, 12, 13, 14, 15, 16, 17,\n",
       "       18, 19])},\n",
       "             pre_dispatch='2*n_jobs', refit=True, return_train_score=False,\n",
       "             scoring=None, verbose=0)"
      ]
     },
     "execution_count": 78,
     "metadata": {},
     "output_type": "execute_result"
    }
   ],
   "source": [
    "from sklearn.tree import DecisionTreeClassifier\n",
    "\n",
    "\n",
    "dt_classifier = DecisionTreeClassifier(random_state = 0)\n",
    "\n",
    "\n",
    "parameters = {'max_depth': np.arange(1, 20)}\n",
    "\n",
    "dt_grid = GridSearchCV(dt_classifier, parameters, cv = 10)\n",
    "\n",
    "\n",
    "dt_grid.fit(X_train, y_train)"
   ]
  },
  {
   "cell_type": "code",
   "execution_count": 79,
   "metadata": {},
   "outputs": [
    {
     "name": "stdout",
     "output_type": "stream",
     "text": [
      "Best Score for Decision Tree classification from grid search:  0.8100341039950394\n",
      "Best parameter for Decision Tree classificaion from grid search:  {'max_depth': 5}\n"
     ]
    }
   ],
   "source": [
    "print(\"Best Score for Decision Tree classification from grid search: \",dt_grid.best_score_)\n",
    "print(\"Best parameter for Decision Tree classificaion from grid search: \",dt_grid.best_params_)"
   ]
  },
  {
   "cell_type": "code",
   "execution_count": 80,
   "metadata": {},
   "outputs": [
    {
     "data": {
      "text/plain": [
       "DecisionTreeClassifier(ccp_alpha=0.0, class_weight=None, criterion='gini',\n",
       "                       max_depth=5, max_features=None, max_leaf_nodes=None,\n",
       "                       min_impurity_decrease=0.0, min_impurity_split=None,\n",
       "                       min_samples_leaf=1, min_samples_split=2,\n",
       "                       min_weight_fraction_leaf=0.0, presort='deprecated',\n",
       "                       random_state=0, splitter='best')"
      ]
     },
     "execution_count": 80,
     "metadata": {},
     "output_type": "execute_result"
    }
   ],
   "source": [
    "dt = DecisionTreeClassifier(max_depth=5, random_state=0)\n",
    "dt.fit(X_train, y_train)"
   ]
  },
  {
   "cell_type": "code",
   "execution_count": 81,
   "metadata": {},
   "outputs": [],
   "source": [
    "cross_val_scores_dt = cross_val_score(dt,X_train, y_train,cv=10)"
   ]
  },
  {
   "cell_type": "code",
   "execution_count": 82,
   "metadata": {},
   "outputs": [
    {
     "name": "stdout",
     "output_type": "stream",
     "text": [
      "The Cross validation scores for the training set for Decision tree is:[0.84037559 0.81690141 0.79812207 0.82629108 0.79342723 0.80751174\n",
      " 0.84507042 0.77358491 0.80660377 0.79245283]\n",
      "The Mean Cross val score for training set for Decision tree is:0.8100341039950394\n"
     ]
    }
   ],
   "source": [
    "print('The Cross validation scores for the training set for Decision tree is:{}'.format(cross_val_scores_dt))\n",
    "print('The Mean Cross val score for training set for Decision tree is:{}'.format(np.mean(cross_val_scores_dt)))"
   ]
  },
  {
   "cell_type": "code",
   "execution_count": 83,
   "metadata": {},
   "outputs": [
    {
     "name": "stdout",
     "output_type": "stream",
     "text": [
      "              precision    recall  f1-score   support\n",
      "\n",
      "           0       0.76      0.65      0.71       252\n",
      "           1       0.82      0.89      0.85       457\n",
      "\n",
      "    accuracy                           0.81       709\n",
      "   macro avg       0.79      0.77      0.78       709\n",
      "weighted avg       0.80      0.81      0.80       709\n",
      "\n",
      "The Train score is:0.844381758345087\n",
      "The Test score is:0.8053596614950634\n"
     ]
    }
   ],
   "source": [
    "dt_test_predict = dt.predict(X_test)\n",
    "dt_train_predict=dt.predict(X_train)\n",
    "print(classification_report(y_test,dt_test_predict))\n",
    "print('The Train score is:{}'.format(accuracy_score(y_train,dt_train_predict)))\n",
    "print('The Test score is:{}'.format(accuracy_score(y_test,dt_test_predict)))"
   ]
  },
  {
   "cell_type": "code",
   "execution_count": 84,
   "metadata": {},
   "outputs": [],
   "source": [
    "train_score_array = []\n",
    "test_score_array = []\n",
    "max_dep = np.arange(1, 20)\n",
    "\n",
    "for depth in max_dep: \n",
    "    dt_classifier = DecisionTreeClassifier(max_depth=depth)\n",
    "    dt_classifier.fit(X_train,y_train)\n",
    "    train_score_array.append(dt_classifier.score(X_train,y_train))\n",
    "    test_score_array.append(dt_classifier.score(X_test, y_test))"
   ]
  },
  {
   "cell_type": "code",
   "execution_count": 85,
   "metadata": {},
   "outputs": [
    {
     "data": {
      "text/plain": [
       "Text(0, 0.5, 'Accuracy')"
      ]
     },
     "execution_count": 85,
     "metadata": {},
     "output_type": "execute_result"
    },
    {
     "data": {
      "image/png": "[encoded data removed]",
      "text/plain": [
       "<Figure size 432x288 with 1 Axes>"
      ]
     },
     "metadata": {
      "needs_background": "light"
     },
     "output_type": "display_data"
    }
   ],
   "source": [
    "plt.plot(max_dep, train_score_array, c = 'g', label = 'Train Score')\n",
    "plt.plot(max_dep, test_score_array, c = 'b', label = 'Test Score')\n",
    "plt.legend(loc = 3)\n",
    "plt.xlabel('Max_Depth')\n",
    "plt.ylabel('Accuracy')\n"
   ]
  },
  {
   "cell_type": "markdown",
   "metadata": {},
   "source": [
    "## Classification Model Comparisons"
   ]
  },
  {
   "cell_type": "code",
   "execution_count": 86,
   "metadata": {},
   "outputs": [],
   "source": [
    "df_index=['KNN','Logistic','Linear SVC','SVC Linear Kernel','SVC rbf Kernel','SVC Poly Kernel','Decision Tree']\n",
    "Classification_Result=pd.DataFrame(columns=['Model_Name','Best_Parameter','Training_score','CV_Score','Testing_score','F1_score','Recall'],index=df_index)\n",
    "Classification_Result['Model_Name']=Classification_Result.index"
   ]
  },
  {
   "cell_type": "code",
   "execution_count": 87,
   "metadata": {},
   "outputs": [],
   "source": [
    "### Results for KNN\n",
    "Classification_Result.loc['KNN']['Best_Parameter']='K=19'\n",
    "Classification_Result.loc['KNN']['Training_score']=0.7884\n",
    "Classification_Result.loc['KNN']['CV_Score']=0.7701\n",
    "Classification_Result.loc['KNN']['Testing_score']=0.7700\n",
    "Classification_Result.loc['KNN']['F1_score']=0.83\n",
    "Classification_Result.loc['KNN']['Recall']=0.84"
   ]
  },
  {
   "cell_type": "code",
   "execution_count": 88,
   "metadata": {},
   "outputs": [],
   "source": [
    "### Results for Logistic Regression\n",
    "Classification_Result.loc['Logistic']['Best_Parameter']='C=10'\n",
    "Classification_Result.loc['Logistic']['Training_score']= 0.8410\n",
    "Classification_Result.loc['Logistic']['CV_Score']=0.8307\n",
    "Classification_Result.loc['Logistic']['Testing_score']= 0.8279\n",
    "Classification_Result.loc['Logistic']['F1_score']=0.87\n",
    "Classification_Result.loc['Logistic']['Recall']=0.90"
   ]
  },
  {
   "cell_type": "code",
   "execution_count": 89,
   "metadata": {},
   "outputs": [],
   "source": [
    "### Results for Linear SVC\n",
    "Classification_Result.loc['Linear SVC']['Best_Parameter']='C=10'\n",
    "Classification_Result.loc['Linear SVC']['Training_score']=0.8382\n",
    "Classification_Result.loc['Linear SVC']['CV_Score']=0.8288\n",
    "Classification_Result.loc['Linear SVC']['Testing_score']=0.8293\n",
    "Classification_Result.loc['Linear SVC']['F1_score']=0.87\n",
    "Classification_Result.loc['Linear SVC']['Recall']=0.90"
   ]
  },
  {
   "cell_type": "code",
   "execution_count": 90,
   "metadata": {},
   "outputs": [],
   "source": [
    "### Results for SVC Linear Kernel\n",
    "Classification_Result.loc['SVC Linear Kernel']['Best_Parameter']='C=1000'\n",
    "Classification_Result.loc['SVC Linear Kernel']['Training_score']=0.8359\n",
    "Classification_Result.loc['SVC Linear Kernel']['CV_Score']=0.8316\n",
    "Classification_Result.loc['SVC Linear Kernel']['Testing_score']=0.8363\n",
    "Classification_Result.loc['SVC Linear Kernel']['F1_score']=0.88\n",
    "Classification_Result.loc['SVC Linear Kernel']['Recall']=0.91"
   ]
  },
  {
   "cell_type": "code",
   "execution_count": 91,
   "metadata": {},
   "outputs": [],
   "source": [
    "### Results for SVC rbf Kernel\n",
    "Classification_Result.loc['SVC rbf Kernel']['Best_Parameter']='c= 10, gamma =0.1'\n",
    "Classification_Result.loc['SVC rbf Kernel']['Training_score']=0.8725\n",
    "Classification_Result.loc['SVC rbf Kernel']['CV_Score']=0.8171\n",
    "Classification_Result.loc['SVC rbf Kernel']['Testing_score']=0.8420\n",
    "Classification_Result.loc['SVC rbf Kernel']['F1_score']=0.88\n",
    "Classification_Result.loc['SVC rbf Kernel']['Recall']=0.91"
   ]
  },
  {
   "cell_type": "code",
   "execution_count": 92,
   "metadata": {},
   "outputs": [],
   "source": [
    "### Results for SVC Poly Kernel\n",
    "Classification_Result.loc['SVC Poly Kernel']['Best_Parameter']='C= 10,degree =1'\n",
    "Classification_Result.loc['SVC Poly Kernel']['Training_score']=0.8368\n",
    "Classification_Result.loc['SVC Poly Kernel']['CV_Score']=00.8293\n",
    "Classification_Result.loc['SVC Poly Kernel']['Testing_score']=0.8406\n",
    "Classification_Result.loc['SVC Poly Kernel']['F1_score']=0.88\n",
    "Classification_Result.loc['SVC Poly Kernel']['Recall']=0.91"
   ]
  },
  {
   "cell_type": "code",
   "execution_count": 93,
   "metadata": {},
   "outputs": [],
   "source": [
    "### Results for Decision Tree\n",
    "Classification_Result.loc['Decision Tree']['Best_Parameter']='Max_depth =5'\n",
    "Classification_Result.loc['Decision Tree']['Training_score']=0.8443\n",
    "Classification_Result.loc['Decision Tree']['CV_Score']=0.8100\n",
    "Classification_Result.loc['Decision Tree']['Testing_score']=0.8053\n",
    "Classification_Result.loc['Decision Tree']['F1_score']=0.85\n",
    "Classification_Result.loc['Decision Tree']['Recall']=0.89"
   ]
  },
  {
   "cell_type": "code",
   "execution_count": 94,
   "metadata": {},
   "outputs": [
    {
     "data": {
      "text/html": [
       "<div>\n",
       "<style scoped>\n",
       "    .dataframe tbody tr th:only-of-type {\n",
       "        vertical-align: middle;\n",
       "    }\n",
       "\n",
       "    .dataframe tbody tr th {\n",
       "        vertical-align: top;\n",
       "    }\n",
       "\n",
       "    .dataframe thead th {\n",
       "        text-align: right;\n",
       "    }\n",
       "</style>\n",
       "<table border=\"1\" class=\"dataframe\">\n",
       "  <thead>\n",
       "    <tr style=\"text-align: right;\">\n",
       "      <th></th>\n",
       "      <th>Model_Name</th>\n",
       "      <th>Best_Parameter</th>\n",
       "      <th>Training_score</th>\n",
       "      <th>CV_Score</th>\n",
       "      <th>Testing_score</th>\n",
       "      <th>F1_score</th>\n",
       "      <th>Recall</th>\n",
       "    </tr>\n",
       "  </thead>\n",
       "  <tbody>\n",
       "    <tr>\n",
       "      <th>KNN</th>\n",
       "      <td>KNN</td>\n",
       "      <td>K=19</td>\n",
       "      <td>0.7884</td>\n",
       "      <td>0.7701</td>\n",
       "      <td>0.77</td>\n",
       "      <td>0.83</td>\n",
       "      <td>0.84</td>\n",
       "    </tr>\n",
       "    <tr>\n",
       "      <th>Logistic</th>\n",
       "      <td>Logistic</td>\n",
       "      <td>C=10</td>\n",
       "      <td>0.841</td>\n",
       "      <td>0.8307</td>\n",
       "      <td>0.8279</td>\n",
       "      <td>0.87</td>\n",
       "      <td>0.9</td>\n",
       "    </tr>\n",
       "    <tr>\n",
       "      <th>Linear SVC</th>\n",
       "      <td>Linear SVC</td>\n",
       "      <td>C=10</td>\n",
       "      <td>0.8382</td>\n",
       "      <td>0.8288</td>\n",
       "      <td>0.8293</td>\n",
       "      <td>0.87</td>\n",
       "      <td>0.9</td>\n",
       "    </tr>\n",
       "    <tr>\n",
       "      <th>SVC Linear Kernel</th>\n",
       "      <td>SVC Linear Kernel</td>\n",
       "      <td>C=1000</td>\n",
       "      <td>0.8359</td>\n",
       "      <td>0.8316</td>\n",
       "      <td>0.8363</td>\n",
       "      <td>0.88</td>\n",
       "      <td>0.91</td>\n",
       "    </tr>\n",
       "    <tr>\n",
       "      <th>SVC rbf Kernel</th>\n",
       "      <td>SVC rbf Kernel</td>\n",
       "      <td>c= 10, gamma =0.1</td>\n",
       "      <td>0.8725</td>\n",
       "      <td>0.8171</td>\n",
       "      <td>0.842</td>\n",
       "      <td>0.88</td>\n",
       "      <td>0.91</td>\n",
       "    </tr>\n",
       "    <tr>\n",
       "      <th>SVC Poly Kernel</th>\n",
       "      <td>SVC Poly Kernel</td>\n",
       "      <td>C= 10,degree =1</td>\n",
       "      <td>0.8368</td>\n",
       "      <td>0.8293</td>\n",
       "      <td>0.8406</td>\n",
       "      <td>0.88</td>\n",
       "      <td>0.91</td>\n",
       "    </tr>\n",
       "    <tr>\n",
       "      <th>Decision Tree</th>\n",
       "      <td>Decision Tree</td>\n",
       "      <td>Max_depth =5</td>\n",
       "      <td>0.8443</td>\n",
       "      <td>0.81</td>\n",
       "      <td>0.8053</td>\n",
       "      <td>0.85</td>\n",
       "      <td>0.89</td>\n",
       "    </tr>\n",
       "  </tbody>\n",
       "</table>\n",
       "</div>"
      ],
      "text/plain": [
       "                          Model_Name     Best_Parameter Training_score  \\\n",
       "KNN                              KNN               K=19         0.7884   \n",
       "Logistic                    Logistic               C=10          0.841   \n",
       "Linear SVC                Linear SVC               C=10         0.8382   \n",
       "SVC Linear Kernel  SVC Linear Kernel             C=1000         0.8359   \n",
       "SVC rbf Kernel        SVC rbf Kernel  c= 10, gamma =0.1         0.8725   \n",
       "SVC Poly Kernel      SVC Poly Kernel    C= 10,degree =1         0.8368   \n",
       "Decision Tree          Decision Tree       Max_depth =5         0.8443   \n",
       "\n",
       "                  CV_Score Testing_score F1_score Recall  \n",
       "KNN                 0.7701          0.77     0.83   0.84  \n",
       "Logistic            0.8307        0.8279     0.87    0.9  \n",
       "Linear SVC          0.8288        0.8293     0.87    0.9  \n",
       "SVC Linear Kernel   0.8316        0.8363     0.88   0.91  \n",
       "SVC rbf Kernel      0.8171         0.842     0.88   0.91  \n",
       "SVC Poly Kernel     0.8293        0.8406     0.88   0.91  \n",
       "Decision Tree         0.81        0.8053     0.85   0.89  "
      ]
     },
     "execution_count": 94,
     "metadata": {},
     "output_type": "execute_result"
    }
   ],
   "source": [
    "Classification_Result"
   ]
  },
  {
   "cell_type": "code",
   "execution_count": 95,
   "metadata": {},
   "outputs": [
    {
     "data": {
      "text/plain": [
       "<matplotlib.axes._subplots.AxesSubplot at 0x1bf0e762e88>"
      ]
     },
     "execution_count": 95,
     "metadata": {},
     "output_type": "execute_result"
    },
    {
     "data": {
      "image/png": "[encoded data removed]",
      "text/plain": [
       "<Figure size 432x288 with 1 Axes>"
      ]
     },
     "metadata": {
      "needs_background": "light"
     },
     "output_type": "display_data"
    }
   ],
   "source": [
    "Classification_Result[['Training_score','CV_Score','Testing_score','F1_score','Recall']].plot(kind='bar')"
   ]
  },
  {
   "cell_type": "markdown",
   "metadata": {},
   "source": [
    "#### Evaluation Metric Used: High F1 score with High Recall and Better generalization(Difference between train,CV and test scores should be minimal)"
   ]
  },
  {
   "cell_type": "markdown",
   "metadata": {},
   "source": [
    "#### Recall = TP/(TP+FN) ; TP --> True Positive ;  FN ---> False Negative"
   ]
  },
  {
   "cell_type": "markdown",
   "metadata": {},
   "source": [
    "* High F1 score in Predicting the deposit term: F1 is the accuracy of the model on how many Yes and No  customer are actually classified correclty from the whole datapoints. High F1 score means less mis-classification.Hence this can be used as a major metric along with High Recall.\n",
    "* High Recall: It is predicting more TP and Less FN. Having FN(predicting Yes as No leads to loosing the customer base which inturn decreases the revenue of the bank. Hence FN should be minimum as a result Recall will be high)\n",
    "\n",
    "### Hence the model with High F1 score along with High Recall is considered as a best model"
   ]
  },
  {
   "cell_type": "markdown",
   "metadata": {},
   "source": [
    "### Best Model: SVC with Poly kernel\n",
    "* All kernelized SVC algorithms have high recall and high F1 score however in Linear kernel the Parameter C is very high when compared to others. Small values of C give larger margin between the decision boundary and the datapoints and also better regularization. So model with less value for C should be chosen\n",
    "* For the remaining kernels (poly and rbf) for rbf the difference between train,cv and test scores is not minimal compared to Poly\n",
    "* Hence Kernelized SVC(Poly) is considered as a best model among all the models."
   ]
  },
  {
   "cell_type": "code",
   "execution_count": null,
   "metadata": {},
   "outputs": [],
   "source": []
  }
 ],
 "metadata": {
  "kernelspec": {
   "display_name": "Python 3",
   "language": "python",
   "name": "python3"
  },
  "language_info": {
   "codemirror_mode": {
    "name": "ipython",
    "version": 3
   },
   "file_extension": ".py",
   "mimetype": "text/x-python",
   "name": "python",
   "nbconvert_exporter": "python",
   "pygments_lexer": "ipython3",
   "version": "3.7.4"
  }
 },
 "nbformat": 4,
 "nbformat_minor": 4
}
